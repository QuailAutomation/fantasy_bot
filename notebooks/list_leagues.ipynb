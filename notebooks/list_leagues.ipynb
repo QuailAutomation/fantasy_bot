{
 "cells": [
  {
   "cell_type": "code",
   "execution_count": 2,
   "metadata": {},
   "outputs": [],
   "source": [
    "from yahoo_oauth import OAuth2\n",
    "import yahoo_fantasy_api as yfa"
   ]
  },
  {
   "cell_type": "markdown",
   "metadata": {},
   "source": [
    "Show what game_type-league name-league_id we are in for the year\n"
   ]
  },
  {
   "cell_type": "code",
   "execution_count": 8,
   "metadata": {},
   "outputs": [
    {
     "name": "stdout",
     "output_type": "stream",
     "text": [
      "nfl: MDGC 1922 - 406.l.246660\n",
      "nfl: sport ball gambling lets go! - 406.l.737905\n",
      "nhl: Game on - 411.l.44864\n",
      "nhl: Yahoo Public 85094 - 411.l.85094\n"
     ]
    }
   ],
   "source": [
    "oauth = OAuth2(None, None, from_file='oauth2.json')\n",
    "year = 2021\n",
    "game_types = ['nfl', 'nhl']\n",
    "\n",
    "for game_type in game_types:\n",
    "    game = yfa.Game(oauth, game_type)\n",
    "    for league_id in  game.league_ids(year):\n",
    "        league = game.to_league(league_id)\n",
    "        print(f\"{game_type}: {league.settings()['name']} - {league_id}\")"
   ]
  },
  {
   "cell_type": "code",
   "execution_count": null,
   "metadata": {},
   "outputs": [],
   "source": []
  }
 ],
 "metadata": {
  "interpreter": {
   "hash": "ea9849012fc58500037a088c32978d576e64ddfe7880248a88430f3f0fb99280"
  },
  "kernelspec": {
   "display_name": "Python 3.8.8 64-bit ('venv': venv)",
   "language": "python",
   "name": "python3"
  },
  "language_info": {
   "codemirror_mode": {
    "name": "ipython",
    "version": 3
   },
   "file_extension": ".py",
   "mimetype": "text/x-python",
   "name": "python",
   "nbconvert_exporter": "python",
   "pygments_lexer": "ipython3",
   "version": "3.8.8"
  },
  "orig_nbformat": 4
 },
 "nbformat": 4,
 "nbformat_minor": 2
}
