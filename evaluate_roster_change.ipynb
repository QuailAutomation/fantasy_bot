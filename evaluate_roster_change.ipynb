{
 "cells": [
  {
   "cell_type": "code",
   "execution_count": 1,
   "metadata": {},
   "outputs": [],
   "source": [
    "import pandas as pd\n",
    "import numpy as np\n",
    "import datetime\n",
    "import logging\n",
    "\n",
    "from csh_fantasy_bot import bot\n",
    "from csh_fantasy_bot.roster_change_optimizer import RosterChangeSet\n",
    "from csh_fantasy_bot.nhl import score_team\n",
    "\n"
   ]
  },
  {
   "cell_type": "code",
   "execution_count": 4,
   "metadata": {},
   "outputs": [
    {
     "data": {
      "text/plain": "\"Kevan's Best Team\""
     },
     "execution_count": 4,
     "metadata": {},
     "output_type": "execute_result"
    }
   ],
   "source": [
    "# true value ignores actuals if they exist and works off projections only\n",
    "simulation_mode=False\n",
    "week_number = 5\n",
    "league_id = '403.l.41177'\n",
    "# league_id = \"403.l.18782\"\n",
    "manager = bot.ManagerBot(week_number, league_id=league_id, simulation_mode=simulation_mode)\n",
    "league_scorer = manager.score_comparer\n",
    "manager.opp_team_name"
   ]
  },
  {
   "cell_type": "code",
   "execution_count": 7,
   "metadata": {},
   "outputs": [
    {
     "name": "stdout",
     "output_type": "stream",
     "text": [
      "G       A    +/-     PIM      SOG       FW     HIT\n",
      "my-scores          15.440  21.850  1.710  40.190  145.300  158.090  93.790\n",
      "opponent           12.870  24.850  5.620  22.190  125.070   97.350  48.990\n",
      "difference_opp      2.570  -3.000 -3.910  18.000   20.230   60.740  44.800\n",
      "mean-league        12.647  21.487  3.064  23.095  112.281  112.221  50.058\n",
      "std dev             1.979   3.050  1.694   6.446   20.017   35.813  17.232\n",
      "mean-opp           14.155  23.350  3.665  31.190  135.185  127.720  71.390\n",
      "num_stds_opp        1.298  -0.984 -2.308   2.792    1.011    1.696   2.600\n",
      "score_opp           1.298  -0.984 -1.500   1.500    1.011    1.500   1.500\n",
      "win_loss_opp        1.000  -1.000 -1.000   1.000    1.000    1.000   1.000\n",
      "difference_league   2.793   0.363 -1.354  17.095   33.019   45.869  43.732\n",
      "score_league        1.411   0.119 -0.799   1.500    1.500    1.281   1.500\n",
      "\n",
      "Score: opp->(4.325), league->(6.512)\n",
      "\n",
      "Without roster changes: opp->(1.8969999999999998), league->(3.766)\n"
     ]
    }
   ],
   "source": [
    "# paste roster change text into here\n",
    "\"\"\"\n",
    "Here is example of what roster change text should look like\n",
    "It is output from the rosterchangeset.pretty_print method\n",
    "\n",
    "Date: 2021-02-08, in: Alexis Lafreniere(8641), out: Teuvo Teravainen(5698)\n",
    "Date: 2021-02-09, in: Zdeno Chara(1700), out: Kailer Yamamoto(7537)\n",
    "Date: 2021-02-10, in: Adam Fox(7174), out: Evander Kane(4684)\n",
    "\"\"\"\n",
    "roster_change_text=\"\"\"\n",
    "Date: 2021-02-15, in: Brock Nelson(4990), out: Nazem Kadri(4687)\n",
    "Date: 2021-02-21, in: Paul Stastny(4023), out: Vincent Trocheck(5431)\n",
    "\"\"\"\n",
    "\n",
    "roster_changes = RosterChangeSet.from_pretty_print_text(roster_change_text, manager.all_player_predictions)\n",
    "scores_with_changes = manager.score_team(roster_change_set=roster_changes)[1]\n",
    "scoring_result = league_scorer.score(scores_with_changes)[manager.stat_categories]\n",
    "print(scoring_result)\n",
    "print(f\"\\nScore: opp->({scoring_result.loc['score_opp'].sum()}), league->({scoring_result.loc['score_league'].sum()})\") \n",
    "if (roster_change_text != ''):\n",
    "    scores_ignore_roster_changes = manager.score_team()[1]\n",
    "    score_result_no_changes = league_scorer.score(scores_ignore_roster_changes)\n",
    "    print (f\"\\nWithout roster changes: opp->({score_result_no_changes.loc['score_opp'].sum()}), league->({score_result_no_changes.loc['score_league'].sum()})\") "
   ]
  },
  {
   "cell_type": "code",
   "execution_count": 8,
   "metadata": {},
   "outputs": [
    {
     "data": {
      "text/html": "<div>\n<style scoped>\n    .dataframe tbody tr th:only-of-type {\n        vertical-align: middle;\n    }\n\n    .dataframe tbody tr th {\n        vertical-align: top;\n    }\n\n    .dataframe thead th {\n        text-align: right;\n    }\n</style>\n<table border=\"1\" class=\"dataframe\">\n  <thead>\n    <tr style=\"text-align: right;\">\n      <th></th>\n      <th>name</th>\n      <th>GP</th>\n      <th>fpts</th>\n    </tr>\n    <tr>\n      <th>player_id</th>\n      <th></th>\n      <th></th>\n      <th></th>\n    </tr>\n  </thead>\n  <tbody>\n    <tr>\n      <th>5696</th>\n      <td>Tom Wilson</td>\n      <td>4.0</td>\n      <td>1.06</td>\n    </tr>\n    <tr>\n      <th>4990</th>\n      <td>Brock Nelson</td>\n      <td>4.0</td>\n      <td>0.83</td>\n    </tr>\n    <tr>\n      <th>5986</th>\n      <td>Darnell Nurse</td>\n      <td>4.0</td>\n      <td>0.65</td>\n    </tr>\n    <tr>\n      <th>5985</th>\n      <td>Sean Monahan</td>\n      <td>4.0</td>\n      <td>0.56</td>\n    </tr>\n    <tr>\n      <th>5370</th>\n      <td>Dougie Hamilton</td>\n      <td>4.0</td>\n      <td>0.80</td>\n    </tr>\n    <tr>\n      <th>7902</th>\n      <td>Brady Tkachuk</td>\n      <td>4.0</td>\n      <td>1.14</td>\n    </tr>\n    <tr>\n      <th>3358</th>\n      <td>Brent Burns</td>\n      <td>3.0</td>\n      <td>0.78</td>\n    </tr>\n    <tr>\n      <th>4684</th>\n      <td>Evander Kane</td>\n      <td>3.0</td>\n      <td>1.77</td>\n    </tr>\n    <tr>\n      <th>5697</th>\n      <td>Tomas Hertl</td>\n      <td>3.0</td>\n      <td>0.67</td>\n    </tr>\n    <tr>\n      <th>3637</th>\n      <td>Alex Ovechkin</td>\n      <td>3.0</td>\n      <td>0.74</td>\n    </tr>\n    <tr>\n      <th>5431</th>\n      <td>Vincent Trocheck</td>\n      <td>3.0</td>\n      <td>0.48</td>\n    </tr>\n    <tr>\n      <th>4686</th>\n      <td>Oliver Ekman-Larsson</td>\n      <td>3.0</td>\n      <td>-0.19</td>\n    </tr>\n    <tr>\n      <th>5712</th>\n      <td>Jonathan Marchessault</td>\n      <td>2.0</td>\n      <td>0.78</td>\n    </tr>\n    <tr>\n      <th>6391</th>\n      <td>David Pastrnak</td>\n      <td>2.0</td>\n      <td>0.95</td>\n    </tr>\n    <tr>\n      <th>4023</th>\n      <td>Paul Stastny</td>\n      <td>1.0</td>\n      <td>0.47</td>\n    </tr>\n  </tbody>\n</table>\n</div>",
      "text/plain": "                            name   GP  fpts\nplayer_id                                  \n5696                  Tom Wilson  4.0  1.06\n4990                Brock Nelson  4.0  0.83\n5986               Darnell Nurse  4.0  0.65\n5985                Sean Monahan  4.0  0.56\n5370             Dougie Hamilton  4.0  0.80\n7902               Brady Tkachuk  4.0  1.14\n3358                 Brent Burns  3.0  0.78\n4684                Evander Kane  3.0  1.77\n5697                 Tomas Hertl  3.0  0.67\n3637               Alex Ovechkin  3.0  0.74\n5431            Vincent Trocheck  3.0  0.48\n4686        Oliver Ekman-Larsson  3.0 -0.19\n5712       Jonathan Marchessault  2.0  0.78\n6391              David Pastrnak  2.0  0.95\n4023                Paul Stastny  1.0  0.47"
     },
     "execution_count": 8,
     "metadata": {},
     "output_type": "execute_result"
    }
   ],
   "source": [
    "scores_ignore_roster_changes = scores_with_changes\n",
    "games_played = scores_ignore_roster_changes['G'].groupby(level=1).count()\n",
    "result = manager.all_player_predictions.copy()\n",
    "result['GP'] = games_played\n",
    "result[result.GP.notna()].sort_values('GP', ascending=False).round(2)[['name', 'GP', 'fpts']]"
   ]
  },
  {
   "cell_type": "markdown",
   "metadata": {},
   "source": []
  }
 ],
 "metadata": {
  "kernelspec": {
   "display_name": "Python 3.8.0 64-bit ('venv': venv)",
   "language": "python",
   "name": "python38064bitvenvvenv7230f0c4460c462d8bdbff1c483bdfe3"
  },
  "language_info": {
   "codemirror_mode": {
    "name": "ipython",
    "version": 3
   },
   "file_extension": ".py",
   "mimetype": "text/x-python",
   "name": "python",
   "nbconvert_exporter": "python",
   "pygments_lexer": "ipython3",
   "version": "3.8.0"
  },
  "orig_nbformat": 2
 },
 "nbformat": 4,
 "nbformat_minor": 2
}