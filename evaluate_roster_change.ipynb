{
 "metadata": {
  "language_info": {
   "codemirror_mode": {
    "name": "ipython",
    "version": 3
   },
   "file_extension": ".py",
   "mimetype": "text/x-python",
   "name": "python",
   "nbconvert_exporter": "python",
   "pygments_lexer": "ipython3",
   "version": "3.8.0-final"
  },
  "orig_nbformat": 2,
  "kernelspec": {
   "name": "python38064bitvenvvenv7230f0c4460c462d8bdbff1c483bdfe3",
   "display_name": "Python 3.8.0 64-bit ('venv': venv)",
   "language": "python"
  }
 },
 "nbformat": 4,
 "nbformat_minor": 2,
 "cells": [
  {
   "cell_type": "code",
   "execution_count": 2,
   "metadata": {},
   "outputs": [],
   "source": [
    "import pandas as pd\n",
    "import numpy as np\n",
    "import datetime\n",
    "import logging\n",
    "from selenium.webdriver.remote.remote_connection import LOGGER as serverLogger\n",
    "serverLogger.setLevel(logging.WARNING)\n",
    "logging.getLogger(\"yahoo_oauth\").setLevel(level=logging.INFO)\n",
    "\n",
    "from csh_fantasy_bot import bot, nhl\n",
    "from csh_fantasy_bot.roster_change_optimizer import RosterChangeSet\n",
    "from csh_fantasy_bot.nhl import score_team\n",
    "\n",
    "\n",
    "\n"
   ]
  },
  {
   "cell_type": "code",
   "execution_count": 3,
   "metadata": {},
   "outputs": [
    {
     "output_type": "execute_result",
     "data": {
      "text/plain": [
       "'Belfast Bruisers'"
      ]
     },
     "metadata": {},
     "execution_count": 3
    }
   ],
   "source": [
    "# true value ignores actuals if they exist and works off projections only\n",
    "simulation_mode=False\n",
    "week_number = 4\n",
    "league_id = '403.l.41177'\n",
    "# league_id = \"403.l.18782\"\n",
    "manager = bot.ManagerBot(week_number, league_id=league_id, simulation_mode=simulation_mode)\n",
    "league_scorer = manager.score_comparer\n",
    "manager.opp_team_name"
   ]
  },
  {
   "cell_type": "code",
   "execution_count": 13,
   "metadata": {},
   "outputs": [
    {
     "output_type": "stream",
     "name": "stdout",
     "text": [
      "                        G       A     +/-     PIM      SOG      FW     HIT\n",
      "my-scores          10.750  14.080   0.540  26.390   96.870  69.680  60.520\n",
      "opponent           16.620  25.510  14.300  21.610  102.610  82.630  28.940\n",
      "difference_opp     -5.870 -11.430 -13.760   4.780   -5.740 -12.950  31.580\n",
      "mean-league        12.044  19.315   4.358  17.331   92.079  77.514  41.158\n",
      "std dev             2.910   3.872  12.071   6.103   16.413  30.638  11.269\n",
      "mean-opp           13.685  19.795   7.420  24.000   99.740  76.155  44.730\n",
      "num_stds_opp       -2.017  -2.952  -1.140   0.783   -0.350  -0.423   2.802\n",
      "score_opp          -1.500  -1.500  -1.140   0.783   -0.350  -0.423   1.500\n",
      "win_loss_opp       -1.000  -1.000  -1.000   1.000   -1.000  -1.000   1.000\n",
      "difference_league  -1.294  -5.235  -3.818   9.059    4.791  -7.834  19.362\n",
      "score_league       -0.445  -1.352  -0.316   1.484    0.292  -0.256   1.500\n",
      "\n",
      "Score: opp->(-2.63), league->(0.907)\n",
      "\n",
      "Without roster changes: opp->(-2.63), league->(0.907)\n"
     ]
    }
   ],
   "source": [
    "# paste roster change text into here\n",
    "\"\"\"\n",
    "Here is example of what roster change text should look like\n",
    "It is output from the rosterchangeset.pretty_print method\n",
    "\n",
    "Date: 2021-02-09, in: Unknown(5626), out: Unknown(3788)\n",
    "Date: 2021-02-08, in: Unknown(3835), out: Unknown(4008)\n",
    "\"\"\"\n",
    "roster_change_text=\"\"\"\n",
    "\"\"\"\n",
    "\n",
    "roster_changes = RosterChangeSet.from_pretty_print_text(roster_change_text, manager.all_player_predictions)\n",
    "scores_with_changes = manager.score_team(roster_change_set=roster_changes)[1]\n",
    "scoring_result = league_scorer.score(scores_with_changes)[manager.stat_categories]\n",
    "print(scoring_result)\n",
    "print(f\"\\nScore: opp->({scoring_result.loc['score_opp'].sum()}), league->({scoring_result.loc['score_league'].sum()})\") \n",
    "if (roster_change_text != ''):\n",
    "    scores_ignore_roster_changes = manager.score_team()[1]\n",
    "    score_result_no_changes = league_scorer.score(scores_ignore_roster_changes)\n",
    "    print (f\"\\nWithout roster changes: opp->({score_result_no_changes.loc['score_opp'].sum()}), league->({score_result_no_changes.loc['score_league'].sum()})\") "
   ]
  },
  {
   "cell_type": "code",
   "execution_count": null,
   "metadata": {},
   "outputs": [],
   "source": []
  }
 ]
}