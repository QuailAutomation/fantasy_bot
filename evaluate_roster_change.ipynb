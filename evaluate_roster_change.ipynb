{
 "cells": [
  {
   "cell_type": "code",
   "execution_count": 1,
   "metadata": {},
   "outputs": [],
   "source": [
    "import pandas as pd\n",
    "import numpy as np\n",
    "import datetime\n",
    "import logging\n",
    "\n",
    "from csh_fantasy_bot import bot\n",
    "from csh_fantasy_bot.roster_change_optimizer import RosterChangeSet\n",
    "from csh_fantasy_bot.nhl import score_team\n",
    "\n"
   ]
  },
  {
   "cell_type": "code",
   "execution_count": 2,
   "metadata": {},
   "outputs": [
    {
     "data": {
      "text/plain": "\"Kevan's Best Team\""
     },
     "execution_count": 2,
     "metadata": {},
     "output_type": "execute_result"
    }
   ],
   "source": [
    "# true value ignores actuals if they exist and works off projections only\n",
    "simulation_mode=False\n",
    "week_number = 5\n",
    "league_id = '403.l.41177'\n",
    "# league_id = \"403.l.18782\"\n",
    "manager = bot.ManagerBot(week_number, league_id=league_id, simulation_mode=simulation_mode)\n",
    "league_scorer = manager.score_comparer\n",
    "manager.opp_team_name"
   ]
  },
  {
   "cell_type": "code",
   "execution_count": 3,
   "metadata": {},
   "outputs": [
    {
     "name": "stdout",
     "output_type": "stream",
     "text": [
      "G       A    +/-     PIM      SOG       FW     HIT\n",
      "my-scores          16.500  23.890  4.170  39.540  152.800  152.630  95.170\n",
      "opponent           13.260  25.240  4.130  25.640  134.430  116.460  51.540\n",
      "difference_opp      3.240  -1.350  0.040  13.900   18.370   36.170  43.630\n",
      "mean-league        12.451  21.179  3.013  23.033  111.288  115.086  50.411\n",
      "std dev             2.023   3.093  1.325   6.160   20.231   38.367  17.251\n",
      "mean-opp           14.880  24.565  4.150  32.590  143.615  134.545  73.355\n",
      "num_stds_opp        1.602  -0.436  0.030   2.257    0.908    0.943   2.529\n",
      "score_opp           1.500  -0.436  0.030   1.500    0.908    0.943   1.500\n",
      "win_loss_opp        1.000  -1.000  0.000   1.000    1.000    1.000   1.000\n",
      "difference_league   4.049   2.711  1.157  16.507   41.512   37.544  44.759\n",
      "score_league        1.500   0.877  0.873   1.500    1.500    0.979   1.500\n",
      "\n",
      "Score: opp->(5.945), league->(8.729)\n",
      "\n",
      "Without roster changes: opp->(1.165), league->(4.695)\n"
     ]
    }
   ],
   "source": [
    "# paste roster change text into here\n",
    "\"\"\"\n",
    "Here is example of what roster change text should look like\n",
    "It is output from the rosterchangeset.pretty_print method\n",
    "\n",
    "Date: 2021-02-08, in: Alexis Lafreniere(8641), out: Teuvo Teravainen(5698)\n",
    "Date: 2021-02-09, in: Zdeno Chara(1700), out: Kailer Yamamoto(7537)\n",
    "Date: 2021-02-10, in: Adam Fox(7174), out: Evander Kane(4684)\n",
    "\"\"\"\n",
    "roster_change_text=\"\"\"\n",
    "Date: 2021-02-18, in: Andrew Copp(6083), out: Oliver Ekman-Larsson(4686)\n",
    "Date: 2021-02-15, in: Brock Nelson(4990), out: Nazem Kadri(4687)\n",
    "Date: 2021-02-16, in: Adam Fox(7174), out: Tomas Hertl(5697)\n",
    "\"\"\"\n",
    "\n",
    "roster_changes = RosterChangeSet.from_pretty_print_text(roster_change_text, manager.all_player_predictions)\n",
    "scores_with_changes = manager.score_team(roster_change_set=roster_changes)[1]\n",
    "scoring_result = league_scorer.score(scores_with_changes)[manager.stat_categories]\n",
    "print(scoring_result)\n",
    "print(f\"\\nScore: opp->({scoring_result.loc['score_opp'].sum()}), league->({scoring_result.loc['score_league'].sum()})\") \n",
    "if (roster_change_text != ''):\n",
    "    scores_ignore_roster_changes = manager.score_team()[1]\n",
    "    score_result_no_changes = league_scorer.score(scores_ignore_roster_changes)\n",
    "    print (f\"\\nWithout roster changes: opp->({score_result_no_changes.loc['score_opp'].sum()}), league->({score_result_no_changes.loc['score_league'].sum()})\") "
   ]
  },
  {
   "cell_type": "code",
   "execution_count": 5,
   "metadata": {},
   "outputs": [
    {
     "data": {
      "text/html": "<div>\n<style scoped>\n    .dataframe tbody tr th:only-of-type {\n        vertical-align: middle;\n    }\n\n    .dataframe tbody tr th {\n        vertical-align: top;\n    }\n\n    .dataframe thead th {\n        text-align: right;\n    }\n</style>\n<table border=\"1\" class=\"dataframe\">\n  <thead>\n    <tr style=\"text-align: right;\">\n      <th></th>\n      <th>name</th>\n      <th>GP</th>\n      <th>fpts</th>\n    </tr>\n    <tr>\n      <th>player_id</th>\n      <th></th>\n      <th></th>\n      <th></th>\n    </tr>\n  </thead>\n  <tbody>\n    <tr>\n      <th>5985</th>\n      <td>Sean Monahan</td>\n      <td>4.0</td>\n      <td>0.38</td>\n    </tr>\n    <tr>\n      <th>5431</th>\n      <td>Vincent Trocheck</td>\n      <td>4.0</td>\n      <td>0.62</td>\n    </tr>\n    <tr>\n      <th>3637</th>\n      <td>Alex Ovechkin</td>\n      <td>4.0</td>\n      <td>1.27</td>\n    </tr>\n    <tr>\n      <th>5696</th>\n      <td>Tom Wilson</td>\n      <td>4.0</td>\n      <td>1.72</td>\n    </tr>\n    <tr>\n      <th>4990</th>\n      <td>Brock Nelson</td>\n      <td>4.0</td>\n      <td>0.88</td>\n    </tr>\n    <tr>\n      <th>5986</th>\n      <td>Darnell Nurse</td>\n      <td>4.0</td>\n      <td>0.43</td>\n    </tr>\n    <tr>\n      <th>5370</th>\n      <td>Dougie Hamilton</td>\n      <td>4.0</td>\n      <td>0.62</td>\n    </tr>\n    <tr>\n      <th>7174</th>\n      <td>Adam Fox</td>\n      <td>4.0</td>\n      <td>0.38</td>\n    </tr>\n    <tr>\n      <th>3358</th>\n      <td>Brent Burns</td>\n      <td>3.0</td>\n      <td>0.22</td>\n    </tr>\n    <tr>\n      <th>7902</th>\n      <td>Brady Tkachuk</td>\n      <td>3.0</td>\n      <td>0.89</td>\n    </tr>\n    <tr>\n      <th>4684</th>\n      <td>Evander Kane</td>\n      <td>3.0</td>\n      <td>1.06</td>\n    </tr>\n    <tr>\n      <th>6083</th>\n      <td>Andrew Copp</td>\n      <td>2.0</td>\n      <td>0.27</td>\n    </tr>\n    <tr>\n      <th>5712</th>\n      <td>Jonathan Marchessault</td>\n      <td>2.0</td>\n      <td>0.59</td>\n    </tr>\n    <tr>\n      <th>4984</th>\n      <td>Kevin Hayes</td>\n      <td>2.0</td>\n      <td>0.82</td>\n    </tr>\n    <tr>\n      <th>6391</th>\n      <td>David Pastrnak</td>\n      <td>2.0</td>\n      <td>1.47</td>\n    </tr>\n    <tr>\n      <th>5697</th>\n      <td>Tomas Hertl</td>\n      <td>1.0</td>\n      <td>0.26</td>\n    </tr>\n    <tr>\n      <th>4686</th>\n      <td>Oliver Ekman-Larsson</td>\n      <td>1.0</td>\n      <td>-0.24</td>\n    </tr>\n  </tbody>\n</table>\n</div>",
      "text/plain": "                            name   GP  fpts\nplayer_id                                  \n5985                Sean Monahan  4.0  0.38\n5431            Vincent Trocheck  4.0  0.62\n3637               Alex Ovechkin  4.0  1.27\n5696                  Tom Wilson  4.0  1.72\n4990                Brock Nelson  4.0  0.88\n5986               Darnell Nurse  4.0  0.43\n5370             Dougie Hamilton  4.0  0.62\n7174                    Adam Fox  4.0  0.38\n3358                 Brent Burns  3.0  0.22\n7902               Brady Tkachuk  3.0  0.89\n4684                Evander Kane  3.0  1.06\n6083                 Andrew Copp  2.0  0.27\n5712       Jonathan Marchessault  2.0  0.59\n4984                 Kevin Hayes  2.0  0.82\n6391              David Pastrnak  2.0  1.47\n5697                 Tomas Hertl  1.0  0.26\n4686        Oliver Ekman-Larsson  1.0 -0.24"
     },
     "execution_count": 5,
     "metadata": {},
     "output_type": "execute_result"
    }
   ],
   "source": [
    "scores_ignore_roster_changes = scores_with_changes\n",
    "games_played = scores_ignore_roster_changes['G'].groupby(level=1).count()\n",
    "result = manager.all_player_predictions.copy()\n",
    "result['GP'] = games_played\n",
    "gp_table = result[result.GP.notna()].sort_values('GP', ascending=False).round(2)\n",
    "gp_table[['name', 'GP', 'fpts']]"
   ]
  },
  {
   "cell_type": "markdown",
   "metadata": {},
   "source": []
  },
  {
   "cell_type": "code",
   "execution_count": 6,
   "metadata": {},
   "outputs": [
    {
     "data": {
      "text/plain": "51.0"
     },
     "execution_count": 6,
     "metadata": {},
     "output_type": "execute_result"
    }
   ],
   "source": [
    "gp_table['GP'].sum()\n"
   ]
  },
  {
   "cell_type": "code",
   "execution_count": null,
   "metadata": {},
   "outputs": [],
   "source": []
  }
 ],
 "metadata": {
  "kernelspec": {
   "display_name": "Python 3.8.0 64-bit ('venv': venv)",
   "language": "python",
   "name": "python38064bitvenvvenv7230f0c4460c462d8bdbff1c483bdfe3"
  },
  "language_info": {
   "codemirror_mode": {
    "name": "ipython",
    "version": 3
   },
   "file_extension": ".py",
   "mimetype": "text/x-python",
   "name": "python",
   "nbconvert_exporter": "python",
   "pygments_lexer": "ipython3",
   "version": "3.8.0"
  },
  "orig_nbformat": 2
 },
 "nbformat": 4,
 "nbformat_minor": 2
}