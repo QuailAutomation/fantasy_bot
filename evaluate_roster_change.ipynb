{
 "cells": [
  {
   "cell_type": "code",
   "execution_count": 4,
   "metadata": {},
   "outputs": [],
   "source": [
    "import pandas as pd\n",
    "import numpy as np\n",
    "import datetime\n",
    "import logging\n",
    "from selenium.webdriver.remote.remote_connection import LOGGER as serverLogger\n",
    "serverLogger.setLevel(logging.WARNING)\n",
    "logging.getLogger(\"yahoo_oauth\").setLevel(level=logging.INFO)\n",
    "\n",
    "from csh_fantasy_bot import bot, nhl\n",
    "from csh_fantasy_bot.roster_change_optimizer import RosterChangeSet\n",
    "from csh_fantasy_bot.nhl import score_team\n",
    "\n"
   ]
  },
  {
   "cell_type": "code",
   "execution_count": 72,
   "metadata": {},
   "outputs": [
    {
     "data": {
      "text/plain": "'Belfast Bruisers'"
     },
     "execution_count": 72,
     "metadata": {},
     "output_type": "execute_result"
    }
   ],
   "source": [
    "# true value ignores actuals if they exist and works off projections only\n",
    "simulation_mode=False\n",
    "week_number = 4\n",
    "league_id = '403.l.41177'\n",
    "# league_id = \"403.l.18782\"\n",
    "manager = bot.ManagerBot(week_number, league_id=league_id, simulation_mode=simulation_mode)\n",
    "league_scorer = manager.score_comparer\n",
    "manager.opp_team_name"
   ]
  },
  {
   "cell_type": "code",
   "execution_count": 88,
   "metadata": {},
   "outputs": [
    {
     "name": "stdout",
     "output_type": "stream",
     "text": [
      "G       A    +/-     PIM      SOG       FW     HIT\n",
      "my-scores          13.310  20.140  4.030  36.430  126.630   58.230  78.730\n",
      "opponent           12.870  19.060  5.030  16.990  118.820  118.820  42.690\n",
      "difference_opp      0.440   1.080 -1.000  19.440    7.810  -60.590  36.040\n",
      "mean-league        11.399  19.344  4.055  20.881  101.676   92.089  46.586\n",
      "std dev             1.637   3.039  1.606   5.584   14.776   26.638  15.148\n",
      "mean-opp           13.090  19.600  4.530  26.710  122.725   88.525  60.710\n",
      "num_stds_opp        0.269   0.355 -0.623   3.481    0.529   -2.275   2.379\n",
      "score_opp           0.269   0.355 -0.623   1.500    0.529   -1.500   1.500\n",
      "win_loss_opp        1.000   1.000 -1.000   1.000    1.000   -1.000   1.000\n",
      "difference_league   1.911   0.796 -0.025  15.549   24.954  -33.859  32.144\n",
      "score_league        1.167   0.262 -0.016   1.500    1.500   -1.271   1.500\n",
      "\n",
      "Score: opp->(2.03), league->(4.642)\n",
      "\n",
      "Without roster changes: opp->(-1.222), league->(0.9720000000000001)\n"
     ]
    }
   ],
   "source": [
    "# paste roster change text into here\n",
    "\"\"\"\n",
    "Here is example of what roster change text should look like\n",
    "It is output from the rosterchangeset.pretty_print method\n",
    "\n",
    "Date: 2021-02-08, in: Alexis Lafreniere(8641), out: Teuvo Teravainen(5698)\n",
    "Date: 2021-02-09, in: Zdeno Chara(1700), out: Kailer Yamamoto(7537)\n",
    "Date: 2021-02-10, in: Adam Fox(7174), out: Evander Kane(4684)\n",
    "\"\"\"\n",
    "roster_change_text=\"\"\"\n",
    "Date: 2021-02-09, in: Ryan McDonagh(4251), out: Conor Garland(6865)\n",
    "Date: 2021-02-09, in: Adam Fox(7174), out: Kailer Yamamoto(7537)\n",
    "\"\"\"\n",
    "\n",
    "roster_changes = RosterChangeSet.from_pretty_print_text(roster_change_text, manager.all_player_predictions)\n",
    "scores_with_changes = manager.score_team(roster_change_set=roster_changes)[1]\n",
    "scoring_result = league_scorer.score(scores_with_changes)[manager.stat_categories]\n",
    "print(scoring_result)\n",
    "print(f\"\\nScore: opp->({scoring_result.loc['score_opp'].sum()}), league->({scoring_result.loc['score_league'].sum()})\") \n",
    "if (roster_change_text != ''):\n",
    "    scores_ignore_roster_changes = manager.score_team()[1]\n",
    "    score_result_no_changes = league_scorer.score(scores_ignore_roster_changes)\n",
    "    print (f\"\\nWithout roster changes: opp->({score_result_no_changes.loc['score_opp'].sum()}), league->({score_result_no_changes.loc['score_league'].sum()})\") "
   ]
  },
  {
   "cell_type": "code",
   "execution_count": 89,
   "metadata": {},
   "outputs": [
    {
     "data": {
      "text/html": "<div>\n<style scoped>\n    .dataframe tbody tr th:only-of-type {\n        vertical-align: middle;\n    }\n\n    .dataframe tbody tr th {\n        vertical-align: top;\n    }\n\n    .dataframe thead th {\n        text-align: right;\n    }\n</style>\n<table border=\"1\" class=\"dataframe\">\n  <thead>\n    <tr style=\"text-align: right;\">\n      <th></th>\n      <th>name</th>\n      <th>GP</th>\n      <th>fpts</th>\n    </tr>\n    <tr>\n      <th>player_id</th>\n      <th></th>\n      <th></th>\n      <th></th>\n    </tr>\n  </thead>\n  <tbody>\n    <tr>\n      <th>5696</th>\n      <td>Tom Wilson</td>\n      <td>4.0</td>\n      <td>1.15</td>\n    </tr>\n    <tr>\n      <th>5712</th>\n      <td>Jonathan Marchessault</td>\n      <td>4.0</td>\n      <td>1.02</td>\n    </tr>\n    <tr>\n      <th>7902</th>\n      <td>Brady Tkachuk</td>\n      <td>4.0</td>\n      <td>0.96</td>\n    </tr>\n    <tr>\n      <th>3358</th>\n      <td>Brent Burns</td>\n      <td>3.0</td>\n      <td>0.43</td>\n    </tr>\n    <tr>\n      <th>4684</th>\n      <td>Evander Kane</td>\n      <td>3.0</td>\n      <td>1.39</td>\n    </tr>\n    <tr>\n      <th>5697</th>\n      <td>Tomas Hertl</td>\n      <td>3.0</td>\n      <td>0.46</td>\n    </tr>\n    <tr>\n      <th>3637</th>\n      <td>Alex Ovechkin</td>\n      <td>3.0</td>\n      <td>0.72</td>\n    </tr>\n    <tr>\n      <th>4251</th>\n      <td>Ryan McDonagh</td>\n      <td>3.0</td>\n      <td>0.51</td>\n    </tr>\n    <tr>\n      <th>5986</th>\n      <td>Darnell Nurse</td>\n      <td>3.0</td>\n      <td>0.47</td>\n    </tr>\n    <tr>\n      <th>6391</th>\n      <td>David Pastrnak</td>\n      <td>3.0</td>\n      <td>1.05</td>\n    </tr>\n    <tr>\n      <th>7174</th>\n      <td>Adam Fox</td>\n      <td>3.0</td>\n      <td>0.24</td>\n    </tr>\n    <tr>\n      <th>5370</th>\n      <td>Dougie Hamilton</td>\n      <td>3.0</td>\n      <td>0.87</td>\n    </tr>\n    <tr>\n      <th>7537</th>\n      <td>Kailer Yamamoto</td>\n      <td>1.0</td>\n      <td>-0.27</td>\n    </tr>\n    <tr>\n      <th>4687</th>\n      <td>Nazem Kadri</td>\n      <td>1.0</td>\n      <td>0.13</td>\n    </tr>\n    <tr>\n      <th>6865</th>\n      <td>Conor Garland</td>\n      <td>1.0</td>\n      <td>-0.29</td>\n    </tr>\n    <tr>\n      <th>4984</th>\n      <td>Kevin Hayes</td>\n      <td>1.0</td>\n      <td>0.44</td>\n    </tr>\n  </tbody>\n</table>\n</div>",
      "text/plain": "                            name   GP  fpts\nplayer_id                                  \n5696                  Tom Wilson  4.0  1.15\n5712       Jonathan Marchessault  4.0  1.02\n7902               Brady Tkachuk  4.0  0.96\n3358                 Brent Burns  3.0  0.43\n4684                Evander Kane  3.0  1.39\n5697                 Tomas Hertl  3.0  0.46\n3637               Alex Ovechkin  3.0  0.72\n4251               Ryan McDonagh  3.0  0.51\n5986               Darnell Nurse  3.0  0.47\n6391              David Pastrnak  3.0  1.05\n7174                    Adam Fox  3.0  0.24\n5370             Dougie Hamilton  3.0  0.87\n7537             Kailer Yamamoto  1.0 -0.27\n4687                 Nazem Kadri  1.0  0.13\n6865               Conor Garland  1.0 -0.29\n4984                 Kevin Hayes  1.0  0.44"
     },
     "execution_count": 89,
     "metadata": {},
     "output_type": "execute_result"
    }
   ],
   "source": [
    "scores_ignore_roster_changes = scores_with_changes\n",
    "games_played = scores_ignore_roster_changes['G'].groupby(level=1).count()\n",
    "result = manager.all_player_predictions.copy()\n",
    "result['GP'] = games_played\n",
    "result[result.GP.notna()].sort_values('GP', ascending=False).round(2)[['name', 'GP', 'fpts']]"
   ]
  },
  {
   "cell_type": "markdown",
   "metadata": {},
   "source": []
  },
  {
   "cell_type": "code",
   "execution_count": null,
   "metadata": {},
   "outputs": [],
   "source": []
  }
 ],
 "metadata": {
  "kernelspec": {
   "display_name": "Python 3.8.0 64-bit ('venv': venv)",
   "language": "python",
   "name": "python38064bitvenvvenv7230f0c4460c462d8bdbff1c483bdfe3"
  },
  "language_info": {
   "codemirror_mode": {
    "name": "ipython",
    "version": 3
   },
   "file_extension": ".py",
   "mimetype": "text/x-python",
   "name": "python",
   "nbconvert_exporter": "python",
   "pygments_lexer": "ipython3",
   "version": "3.8.0"
  },
  "orig_nbformat": 2
 },
 "nbformat": 4,
 "nbformat_minor": 2
}