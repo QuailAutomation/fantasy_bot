{
 "cells": [
  {
   "cell_type": "code",
   "execution_count": 1,
   "metadata": {},
   "outputs": [],
   "source": [
    "import pandas as pd\n",
    "import numpy as np\n",
    "import datetime\n",
    "import logging\n",
    "\n",
    "from csh_fantasy_bot import bot\n",
    "from csh_fantasy_bot.roster_change_optimizer import RosterChangeSet\n",
    "from csh_fantasy_bot.nhl import score_team\n",
    "\n"
   ]
  },
  {
   "cell_type": "code",
   "execution_count": 2,
   "metadata": {},
   "outputs": [
    {
     "data": {
      "text/plain": "\"Kevan's Best Team\""
     },
     "execution_count": 2,
     "metadata": {},
     "output_type": "execute_result"
    }
   ],
   "source": [
    "# true value ignores actuals if they exist and works off projections only\n",
    "simulation_mode=False\n",
    "week_number = 5\n",
    "league_id = '403.l.41177'\n",
    "# league_id = \"403.l.18782\"\n",
    "manager = bot.ManagerBot(week_number, league_id=league_id, simulation_mode=simulation_mode)\n",
    "league_scorer = manager.score_comparer\n",
    "manager.opp_team_name"
   ]
  },
  {
   "cell_type": "code",
   "execution_count": 8,
   "metadata": {},
   "outputs": [
    {
     "name": "stdout",
     "output_type": "stream",
     "text": [
      "G       A    +/-     PIM      SOG       FW     HIT\n",
      "my-scores          15.310  21.940  3.730  39.010  142.880  147.850  93.190\n",
      "opponent           12.870  24.850  5.620  22.190  125.070   97.350  48.990\n",
      "difference_opp      2.440  -2.910 -1.890  16.820   17.810   50.500  44.200\n",
      "mean-league        12.551  21.355  3.101  22.907  111.132  112.221  49.454\n",
      "std dev             2.020   3.186  1.662   6.343   20.633   35.813  16.555\n",
      "mean-opp           14.090  23.395  4.675  30.600  133.975  122.600  71.090\n",
      "num_stds_opp        1.208  -0.913 -1.137   2.652    0.863    1.410   2.670\n",
      "score_opp           1.208  -0.913 -1.137   1.500    0.863    1.410   1.500\n",
      "win_loss_opp        1.000  -1.000 -1.000   1.000    1.000    1.000   1.000\n",
      "difference_league   2.759   0.585  0.629  16.103   31.748   35.629  43.736\n",
      "score_league        1.366   0.184  0.379   1.500    1.500    0.995   1.500\n",
      "\n",
      "Score: opp->(4.431), league->(7.424)\n",
      "\n",
      "Without roster changes: opp->(1.641), league->(3.73)\n"
     ]
    }
   ],
   "source": [
    "# paste roster change text into here\n",
    "\"\"\"\n",
    "Here is example of what roster change text should look like\n",
    "It is output from the rosterchangeset.pretty_print method\n",
    "\n",
    "Date: 2021-02-08, in: Alexis Lafreniere(8641), out: Teuvo Teravainen(5698)\n",
    "Date: 2021-02-09, in: Zdeno Chara(1700), out: Kailer Yamamoto(7537)\n",
    "Date: 2021-02-10, in: Adam Fox(7174), out: Evander Kane(4684)\n",
    "\"\"\"\n",
    "roster_change_text=\"\"\"\n",
    "Date: 2021-02-15, in: Anthony Cirelli(6814), out: Samuel Girard(7155)\n",
    "Date: 2021-02-17, in: Andrew Copp(6083), out: Nazem Kadri(4687)\n",
    "\"\"\"\n",
    "\n",
    "roster_changes = RosterChangeSet.from_pretty_print_text(roster_change_text, manager.all_player_predictions)\n",
    "scores_with_changes = manager.score_team(roster_change_set=roster_changes)[1]\n",
    "scoring_result = league_scorer.score(scores_with_changes)[manager.stat_categories]\n",
    "print(scoring_result)\n",
    "print(f\"\\nScore: opp->({scoring_result.loc['score_opp'].sum()}), league->({scoring_result.loc['score_league'].sum()})\") \n",
    "if (roster_change_text != ''):\n",
    "    scores_ignore_roster_changes = manager.score_team()[1]\n",
    "    score_result_no_changes = league_scorer.score(scores_ignore_roster_changes)\n",
    "    print (f\"\\nWithout roster changes: opp->({score_result_no_changes.loc['score_opp'].sum()}), league->({score_result_no_changes.loc['score_league'].sum()})\") "
   ]
  },
  {
   "cell_type": "code",
   "execution_count": 7,
   "metadata": {},
   "outputs": [
    {
     "data": {
      "text/html": "<div>\n<style scoped>\n    .dataframe tbody tr th:only-of-type {\n        vertical-align: middle;\n    }\n\n    .dataframe tbody tr th {\n        vertical-align: top;\n    }\n\n    .dataframe thead th {\n        text-align: right;\n    }\n</style>\n<table border=\"1\" class=\"dataframe\">\n  <thead>\n    <tr style=\"text-align: right;\">\n      <th></th>\n      <th>name</th>\n      <th>GP</th>\n      <th>fpts</th>\n    </tr>\n    <tr>\n      <th>player_id</th>\n      <th></th>\n      <th></th>\n      <th></th>\n    </tr>\n  </thead>\n  <tbody>\n    <tr>\n      <th>5696</th>\n      <td>Tom Wilson</td>\n      <td>4.0</td>\n      <td>1.06</td>\n    </tr>\n    <tr>\n      <th>4990</th>\n      <td>Brock Nelson</td>\n      <td>4.0</td>\n      <td>0.83</td>\n    </tr>\n    <tr>\n      <th>5986</th>\n      <td>Darnell Nurse</td>\n      <td>4.0</td>\n      <td>0.65</td>\n    </tr>\n    <tr>\n      <th>5985</th>\n      <td>Sean Monahan</td>\n      <td>4.0</td>\n      <td>0.56</td>\n    </tr>\n    <tr>\n      <th>5370</th>\n      <td>Dougie Hamilton</td>\n      <td>4.0</td>\n      <td>0.79</td>\n    </tr>\n    <tr>\n      <th>5431</th>\n      <td>Vincent Trocheck</td>\n      <td>4.0</td>\n      <td>0.48</td>\n    </tr>\n    <tr>\n      <th>7902</th>\n      <td>Brady Tkachuk</td>\n      <td>4.0</td>\n      <td>1.13</td>\n    </tr>\n    <tr>\n      <th>3358</th>\n      <td>Brent Burns</td>\n      <td>3.0</td>\n      <td>0.78</td>\n    </tr>\n    <tr>\n      <th>4684</th>\n      <td>Evander Kane</td>\n      <td>3.0</td>\n      <td>1.77</td>\n    </tr>\n    <tr>\n      <th>3637</th>\n      <td>Alex Ovechkin</td>\n      <td>3.0</td>\n      <td>0.74</td>\n    </tr>\n    <tr>\n      <th>6763</th>\n      <td>Colin White</td>\n      <td>3.0</td>\n      <td>-0.04</td>\n    </tr>\n    <tr>\n      <th>5712</th>\n      <td>Jonathan Marchessault</td>\n      <td>2.0</td>\n      <td>0.78</td>\n    </tr>\n    <tr>\n      <th>6391</th>\n      <td>David Pastrnak</td>\n      <td>2.0</td>\n      <td>0.94</td>\n    </tr>\n    <tr>\n      <th>7155</th>\n      <td>Samuel Girard</td>\n      <td>2.0</td>\n      <td>-0.34</td>\n    </tr>\n    <tr>\n      <th>5697</th>\n      <td>Tomas Hertl</td>\n      <td>1.0</td>\n      <td>0.66</td>\n    </tr>\n  </tbody>\n</table>\n</div>",
      "text/plain": "                            name   GP  fpts\nplayer_id                                  \n5696                  Tom Wilson  4.0  1.06\n4990                Brock Nelson  4.0  0.83\n5986               Darnell Nurse  4.0  0.65\n5985                Sean Monahan  4.0  0.56\n5370             Dougie Hamilton  4.0  0.79\n5431            Vincent Trocheck  4.0  0.48\n7902               Brady Tkachuk  4.0  1.13\n3358                 Brent Burns  3.0  0.78\n4684                Evander Kane  3.0  1.77\n3637               Alex Ovechkin  3.0  0.74\n6763                 Colin White  3.0 -0.04\n5712       Jonathan Marchessault  2.0  0.78\n6391              David Pastrnak  2.0  0.94\n7155               Samuel Girard  2.0 -0.34\n5697                 Tomas Hertl  1.0  0.66"
     },
     "execution_count": 7,
     "metadata": {},
     "output_type": "execute_result"
    }
   ],
   "source": [
    "scores_ignore_roster_changes = scores_with_changes\n",
    "games_played = scores_ignore_roster_changes['G'].groupby(level=1).count()\n",
    "result = manager.all_player_predictions.copy()\n",
    "result['GP'] = games_played\n",
    "result[result.GP.notna()].sort_values('GP', ascending=False).round(2)[['name', 'GP', 'fpts']]"
   ]
  },
  {
   "cell_type": "markdown",
   "metadata": {},
   "source": []
  },
  {
   "cell_type": "code",
   "execution_count": null,
   "metadata": {},
   "outputs": [],
   "source": []
  }
 ],
 "metadata": {
  "kernelspec": {
   "display_name": "Python 3.8.0 64-bit ('venv': venv)",
   "language": "python",
   "name": "python38064bitvenvvenv7230f0c4460c462d8bdbff1c483bdfe3"
  },
  "language_info": {
   "codemirror_mode": {
    "name": "ipython",
    "version": 3
   },
   "file_extension": ".py",
   "mimetype": "text/x-python",
   "name": "python",
   "nbconvert_exporter": "python",
   "pygments_lexer": "ipython3",
   "version": "3.8.0"
  },
  "orig_nbformat": 2
 },
 "nbformat": 4,
 "nbformat_minor": 2
}