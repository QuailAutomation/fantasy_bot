{
 "cells": [
  {
   "cell_type": "code",
   "execution_count": null,
   "metadata": {},
   "outputs": [],
   "source": [
    "from csh_fantasy_bot.bot import ManagerBot\n",
    "\n",
    "league_id = '403.l.41177'\n",
    "bot = ManagerBot(league_id=league_id)"
   ]
  },
  {
   "cell_type": "code",
   "execution_count": 2,
   "metadata": {},
   "outputs": [
    {
     "data": {
      "text/plain": "[('C', {'position_type': 'P', 'count': 2}),\n ('LW', {'position_type': 'P', 'count': 2}),\n ('RW', {'position_type': 'P', 'count': 2}),\n ('D', {'position_type': 'P', 'count': 4}),\n ('G', {'position_type': 'G', 'count': 2}),\n ('BN', {'count': 6}),\n ('IR', {'count': 2})]"
     },
     "execution_count": 2,
     "metadata": {},
     "output_type": "execute_result"
    }
   ],
   "source": [
    "# {key:position_info for key, position_info in bot.lg.positions() if position_info['position_type'] == 'P'}\n",
    "list(bot.lg.positions().items())\n",
    "\n",
    "\n",
    "\n"
   ]
  },
  {
   "cell_type": "code",
   "execution_count": 6,
   "metadata": {},
   "outputs": [
    {
     "data": {
      "text/plain": "dict_keys(['C', 'LW', 'RW', 'D'])"
     },
     "execution_count": 6,
     "metadata": {},
     "output_type": "execute_result"
    }
   ],
   "source": [
    "# {key:value['count'] for key, value in bot.lg.positions().items() if 'P' == value.get('position_type', None)}\n",
    "bot.lg.roster_makeup(position_type='P').keys()\n"
   ]
  },
  {
   "cell_type": "code",
   "execution_count": 28,
   "metadata": {},
   "outputs": [
    {
     "data": {
      "text/plain": "G                                                          8.26\nA                                                         16.34\n+/-                                                      -10.55\nPIM                                                       16.99\nSOG                                                      105.99\nFW                                                        70.89\nHIT                                                       34.59\nscore_type    aaaaaaaaaaaaaaaaaaaaaaaaaaaaaaaaaaaaaaaaaaaaaa...\ndtype: object"
     },
     "execution_count": 28,
     "metadata": {},
     "output_type": "execute_result"
    }
   ],
   "source": [
    "bot.opponent.scores().sum()"
   ]
  },
  {
   "cell_type": "code",
   "execution_count": 27,
   "metadata": {},
   "outputs": [
    {
     "data": {
      "text/plain": "G                      4.26\nA                      9.34\n+/-                    1.45\nPIM                    6.99\nSOG                   41.99\nFW                    19.89\nHIT                   11.59\nscore_type    ppppppppppppp\ndtype: object"
     },
     "execution_count": 27,
     "metadata": {},
     "output_type": "execute_result"
    }
   ],
   "source": [
    "opp_scores = bot.opponent.scores()\n",
    "opp_scores[opp_scores.score_type == 'p'].sum()"
   ]
  },
  {
   "cell_type": "code",
   "execution_count": 23,
   "metadata": {},
   "outputs": [
    {
     "data": {
      "text/html": "<div>\n<style scoped>\n    .dataframe tbody tr th:only-of-type {\n        vertical-align: middle;\n    }\n\n    .dataframe tbody tr th {\n        vertical-align: top;\n    }\n\n    .dataframe thead th {\n        text-align: right;\n    }\n</style>\n<table border=\"1\" class=\"dataframe\">\n  <thead>\n    <tr style=\"text-align: right;\">\n      <th></th>\n      <th></th>\n      <th>G</th>\n      <th>A</th>\n      <th>+/-</th>\n      <th>PIM</th>\n      <th>SOG</th>\n      <th>FW</th>\n      <th>HIT</th>\n      <th>score_type</th>\n    </tr>\n    <tr>\n      <th>play_date</th>\n      <th>player_id</th>\n      <th></th>\n      <th></th>\n      <th></th>\n      <th></th>\n      <th></th>\n      <th></th>\n      <th></th>\n      <th></th>\n    </tr>\n  </thead>\n  <tbody>\n    <tr>\n      <th rowspan=\"3\" valign=\"top\">2021-02-28</th>\n      <th>6368</th>\n      <td>0.37</td>\n      <td>0.52</td>\n      <td>-0.29</td>\n      <td>0.32</td>\n      <td>2.53</td>\n      <td>0.55</td>\n      <td>0.59</td>\n      <td>p</td>\n    </tr>\n    <tr>\n      <th>8279</th>\n      <td>0.19</td>\n      <td>0.37</td>\n      <td>-0.10</td>\n      <td>0.16</td>\n      <td>2.55</td>\n      <td>3.76</td>\n      <td>0.34</td>\n      <td>p</td>\n    </tr>\n    <tr>\n      <th>6549</th>\n      <td>0.26</td>\n      <td>0.29</td>\n      <td>-0.09</td>\n      <td>0.09</td>\n      <td>1.69</td>\n      <td>0.03</td>\n      <td>0.12</td>\n      <td>p</td>\n    </tr>\n  </tbody>\n</table>\n</div>",
      "text/plain": "                         G     A   +/-   PIM   SOG    FW   HIT score_type\nplay_date  player_id                                                     \n2021-02-28 6368       0.37  0.52 -0.29  0.32  2.53  0.55  0.59          p\n           8279       0.19  0.37 -0.10  0.16  2.55  3.76  0.34          p\n           6549       0.26  0.29 -0.09  0.09  1.69  0.03  0.12          p"
     },
     "execution_count": 23,
     "metadata": {},
     "output_type": "execute_result"
    }
   ],
   "source": [
    "\n",
    "bot.opponent.scores().loc[('2021-2-28'),:]"
   ]
  },
  {
   "cell_type": "code",
   "execution_count": 8,
   "metadata": {},
   "outputs": [
    {
     "data": {
      "text/plain": "G                                                          9.47\nA                                                          15.2\n+/-                                                        3.96\nPIM                                                       22.94\nSOG                                                       89.92\nFW                                                        76.59\nHIT                                                       68.53\nscore_type    aaaaaaaaaaaaaaaaaaaaaaaaaaaaaaaaaaaaaaaaaaaaaa...\ndtype: object"
     },
     "execution_count": 8,
     "metadata": {},
     "output_type": "execute_result"
    }
   ],
   "source": [
    "bot.my_team.scores().sum()\n"
   ]
  },
  {
   "cell_type": "code",
   "execution_count": 40,
   "metadata": {},
   "outputs": [
    {
     "data": {
      "text/plain": "G             0.82\nA             1.18\n+/-          -0.48\nPIM           0.57\nSOG           6.77\nFW            4.34\nHIT           1.05\nscore_type     ppp\ndtype: object"
     },
     "execution_count": 40,
     "metadata": {},
     "output_type": "execute_result"
    }
   ],
   "source": [
    "bot.opponent.scores().loc[('2021-2-28'),:].sum()\n"
   ]
  },
  {
   "cell_type": "code",
   "execution_count": null,
   "metadata": {},
   "outputs": [],
   "source": []
  }
 ],
 "metadata": {
  "kernelspec": {
   "display_name": "Python 3.8.0 64-bit ('venv': venv)",
   "language": "python",
   "name": "python38064bitvenvvenv3104862f040048b6925f7e4c5310dc70"
  },
  "language_info": {
   "codemirror_mode": {
    "name": "ipython",
    "version": 3
   },
   "file_extension": ".py",
   "mimetype": "text/x-python",
   "name": "python",
   "nbconvert_exporter": "python",
   "pygments_lexer": "ipython3",
   "version": "3.8.8"
  },
  "metadata": {
   "interpreter": {
    "hash": "aee8b7b246df8f9039afb4144a1f6fd8d2ca17a180786b69acc140d282b71a49"
   }
  },
  "orig_nbformat": 2
 },
 "nbformat": 4,
 "nbformat_minor": 2
}