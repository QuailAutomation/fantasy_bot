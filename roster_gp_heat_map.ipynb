{
 "cells": [
  {
   "cell_type": "code",
   "execution_count": 5,
   "metadata": {},
   "outputs": [
    {
     "name": "stderr",
     "output_type": "stream",
     "text": [
      "ERROR:csh_fantasy_bot.league:Unexpected transaction type: _apply_trade\n"
     ]
    },
    {
     "data": {
      "text/html": "<div>\n<style scoped>\n    .dataframe tbody tr th:only-of-type {\n        vertical-align: middle;\n    }\n\n    .dataframe tbody tr th {\n        vertical-align: top;\n    }\n\n    .dataframe thead th {\n        text-align: right;\n    }\n</style>\n<table border=\"1\" class=\"dataframe\">\n  <thead>\n    <tr style=\"text-align: right;\">\n      <th></th>\n      <th>name</th>\n      <th>editorial_team_abbr</th>\n      <th>position_type</th>\n      <th>eligible_positions</th>\n      <th>team_abbr</th>\n      <th>percent_owned</th>\n      <th>status</th>\n      <th>league_id</th>\n      <th>team_id</th>\n      <th>team_name</th>\n      <th>city</th>\n      <th>abbrev</th>\n      <th>fantasy_status</th>\n      <th>waiver_date</th>\n      <th>GP</th>\n    </tr>\n    <tr>\n      <th>player_id</th>\n      <th></th>\n      <th></th>\n      <th></th>\n      <th></th>\n      <th></th>\n      <th></th>\n      <th></th>\n      <th></th>\n      <th></th>\n      <th></th>\n      <th></th>\n      <th></th>\n      <th></th>\n      <th></th>\n      <th></th>\n    </tr>\n  </thead>\n  <tbody>\n    <tr>\n      <th>1600</th>\n      <td>Joe Thornton</td>\n      <td>TOR</td>\n      <td>P</td>\n      <td>[C, LW]</td>\n      <td>Tor</td>\n      <td>6</td>\n      <td></td>\n      <td>403.l.41177</td>\n      <td>10</td>\n      <td>Maple Leafs</td>\n      <td>Toronto</td>\n      <td>TOR</td>\n      <td>FA</td>\n      <td>NaN</td>\n      <td>3</td>\n    </tr>\n    <tr>\n      <th>2786</th>\n      <td>Dominic Moore</td>\n      <td>TOR</td>\n      <td>P</td>\n      <td>[C]</td>\n      <td>Tor</td>\n      <td>0</td>\n      <td>NA</td>\n      <td>403.l.41177</td>\n      <td>10</td>\n      <td>Maple Leafs</td>\n      <td>Toronto</td>\n      <td>TOR</td>\n      <td>FA</td>\n      <td>NaN</td>\n      <td>3</td>\n    </tr>\n    <tr>\n      <th>2900</th>\n      <td>Jason Spezza</td>\n      <td>TOR</td>\n      <td>P</td>\n      <td>[C, RW]</td>\n      <td>Tor</td>\n      <td>6</td>\n      <td></td>\n      <td>403.l.41177</td>\n      <td>10</td>\n      <td>Maple Leafs</td>\n      <td>Toronto</td>\n      <td>TOR</td>\n      <td>FA</td>\n      <td>NaN</td>\n      <td>3</td>\n    </tr>\n    <tr>\n      <th>4008</th>\n      <td>Nick Foligno</td>\n      <td>TOR</td>\n      <td>P</td>\n      <td>[LW, RW]</td>\n      <td>Tor</td>\n      <td>40</td>\n      <td></td>\n      <td>403.l.41177</td>\n      <td>10</td>\n      <td>Maple Leafs</td>\n      <td>Toronto</td>\n      <td>TOR</td>\n      <td>1</td>\n      <td>NaN</td>\n      <td>3</td>\n    </tr>\n    <tr>\n      <th>4134</th>\n      <td>Rich Clune</td>\n      <td>TOR</td>\n      <td>P</td>\n      <td>[LW]</td>\n      <td>Tor</td>\n      <td>0</td>\n      <td>NA</td>\n      <td>403.l.41177</td>\n      <td>10</td>\n      <td>Maple Leafs</td>\n      <td>Toronto</td>\n      <td>TOR</td>\n      <td>FA</td>\n      <td>NaN</td>\n      <td>3</td>\n    </tr>\n    <tr>\n      <th>...</th>\n      <td>...</td>\n      <td>...</td>\n      <td>...</td>\n      <td>...</td>\n      <td>...</td>\n      <td>...</td>\n      <td>...</td>\n      <td>...</td>\n      <td>...</td>\n      <td>...</td>\n      <td>...</td>\n      <td>...</td>\n      <td>...</td>\n      <td>...</td>\n      <td>...</td>\n    </tr>\n    <tr>\n      <th>8446</th>\n      <td>Roddy Ross</td>\n      <td>PHI</td>\n      <td>G</td>\n      <td>[G]</td>\n      <td>Phi</td>\n      <td>0</td>\n      <td>NA</td>\n      <td>403.l.41177</td>\n      <td>4</td>\n      <td>Flyers</td>\n      <td>Philadelphia</td>\n      <td>PHI</td>\n      <td>FA</td>\n      <td>NaN</td>\n      <td>4</td>\n    </tr>\n    <tr>\n      <th>8612</th>\n      <td>Linus Sandin</td>\n      <td>PHI</td>\n      <td>P</td>\n      <td>[RW]</td>\n      <td>Phi</td>\n      <td>0</td>\n      <td>NA</td>\n      <td>403.l.41177</td>\n      <td>4</td>\n      <td>Flyers</td>\n      <td>Philadelphia</td>\n      <td>PHI</td>\n      <td>FA</td>\n      <td>NaN</td>\n      <td>4</td>\n    </tr>\n    <tr>\n      <th>8663</th>\n      <td>Tyson Foerster</td>\n      <td>PHI</td>\n      <td>P</td>\n      <td>[RW]</td>\n      <td>Phi</td>\n      <td>0</td>\n      <td>NA</td>\n      <td>403.l.41177</td>\n      <td>4</td>\n      <td>Flyers</td>\n      <td>Philadelphia</td>\n      <td>PHI</td>\n      <td>FA</td>\n      <td>NaN</td>\n      <td>4</td>\n    </tr>\n    <tr>\n      <th>8732</th>\n      <td>Zayde Wisdom</td>\n      <td>PHI</td>\n      <td>P</td>\n      <td>[RW]</td>\n      <td>Phi</td>\n      <td>0</td>\n      <td>NA</td>\n      <td>403.l.41177</td>\n      <td>4</td>\n      <td>Flyers</td>\n      <td>Philadelphia</td>\n      <td>PHI</td>\n      <td>FA</td>\n      <td>NaN</td>\n      <td>4</td>\n    </tr>\n    <tr>\n      <th>8866</th>\n      <td>Jackson Cates</td>\n      <td>PHI</td>\n      <td>P</td>\n      <td>[C]</td>\n      <td>Phi</td>\n      <td>0</td>\n      <td></td>\n      <td>403.l.41177</td>\n      <td>4</td>\n      <td>Flyers</td>\n      <td>Philadelphia</td>\n      <td>PHI</td>\n      <td>FA</td>\n      <td>NaN</td>\n      <td>4</td>\n    </tr>\n  </tbody>\n</table>\n<p>1823 rows × 15 columns</p>\n</div>",
      "text/plain": "                     name editorial_team_abbr position_type  \\\nplayer_id                                                     \n1600         Joe Thornton                 TOR             P   \n2786        Dominic Moore                 TOR             P   \n2900         Jason Spezza                 TOR             P   \n4008         Nick Foligno                 TOR             P   \n4134           Rich Clune                 TOR             P   \n...                   ...                 ...           ...   \n8446           Roddy Ross                 PHI             G   \n8612         Linus Sandin                 PHI             P   \n8663       Tyson Foerster                 PHI             P   \n8732         Zayde Wisdom                 PHI             P   \n8866        Jackson Cates                 PHI             P   \n\n          eligible_positions team_abbr  percent_owned status    league_id  \\\nplayer_id                                                                   \n1600                 [C, LW]       Tor              6         403.l.41177   \n2786                     [C]       Tor              0     NA  403.l.41177   \n2900                 [C, RW]       Tor              6         403.l.41177   \n4008                [LW, RW]       Tor             40         403.l.41177   \n4134                    [LW]       Tor              0     NA  403.l.41177   \n...                      ...       ...            ...    ...          ...   \n8446                     [G]       Phi              0     NA  403.l.41177   \n8612                    [RW]       Phi              0     NA  403.l.41177   \n8663                    [RW]       Phi              0     NA  403.l.41177   \n8732                    [RW]       Phi              0     NA  403.l.41177   \n8866                     [C]       Phi              0         403.l.41177   \n\n           team_id    team_name          city abbrev fantasy_status  \\\nplayer_id                                                             \n1600            10  Maple Leafs       Toronto    TOR             FA   \n2786            10  Maple Leafs       Toronto    TOR             FA   \n2900            10  Maple Leafs       Toronto    TOR             FA   \n4008            10  Maple Leafs       Toronto    TOR              1   \n4134            10  Maple Leafs       Toronto    TOR             FA   \n...            ...          ...           ...    ...            ...   \n8446             4       Flyers  Philadelphia    PHI             FA   \n8612             4       Flyers  Philadelphia    PHI             FA   \n8663             4       Flyers  Philadelphia    PHI             FA   \n8732             4       Flyers  Philadelphia    PHI             FA   \n8866             4       Flyers  Philadelphia    PHI             FA   \n\n          waiver_date  GP  \nplayer_id                  \n1600              NaN   3  \n2786              NaN   3  \n2900              NaN   3  \n4008              NaN   3  \n4134              NaN   3  \n...               ...  ..  \n8446              NaN   4  \n8612              NaN   4  \n8663              NaN   4  \n8732              NaN   4  \n8866              NaN   4  \n\n[1823 rows x 15 columns]"
     },
     "execution_count": 5,
     "metadata": {},
     "output_type": "execute_result"
    }
   ],
   "source": [
    "import datetime\n",
    "\n",
    "from csh_fantasy_bot.bot import ManagerBot\n",
    "from nhl_scraper.nhl import Scraper\n",
    "\n",
    "manager = ManagerBot(league_id=\"403.l.41177\")\n",
    "\n",
    "scraper = Scraper()\n",
    "\n",
    "start_of_week = datetime.date(2021,5,3)\n",
    "end_of_week  = datetime.date(2021,5,9)\n",
    "team_games_count = scraper.games_count(start_of_week, end_of_week)\n",
    "\n",
    "player_pool = manager.game_week().all_players\n",
    "player_pool['GP'] = player_pool['team_id'].map(team_games_count)\n",
    "player_pool"
   ]
  },
  {
   "cell_type": "code",
   "execution_count": null,
   "metadata": {},
   "outputs": [],
   "source": []
  }
 ],
 "metadata": {
  "kernelspec": {
   "display_name": "Python 3.8.8  ('venv': venv)",
   "name": "pythonjvsc74a57bd0de673f9a2ab44afbc69f2ae2e48fc2ba41f586076b35a04d0e2534a9cb2d219c"
  },
  "language_info": {
   "codemirror_mode": {
    "name": "ipython",
    "version": 3
   },
   "file_extension": ".py",
   "mimetype": "text/x-python",
   "name": "python",
   "nbconvert_exporter": "python",
   "pygments_lexer": "ipython3",
   "version": "3.8.8"
  },
  "metadata": {
   "interpreter": {
    "hash": "de673f9a2ab44afbc69f2ae2e48fc2ba41f586076b35a04d0e2534a9cb2d219c"
   }
  },
  "orig_nbformat": 2
 },
 "nbformat": 4,
 "nbformat_minor": 2
}