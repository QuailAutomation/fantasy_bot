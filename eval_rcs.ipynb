{
 "cells": [
  {
   "cell_type": "code",
   "execution_count": 1,
   "metadata": {},
   "outputs": [],
   "source": [
    "import pandas as pd\n",
    "import numpy as np\n",
    "import datetime\n",
    "\n",
    "# from csh_fantasy_bot import bot\n",
    "# from csh_fantasy_bot.roster_change_optimizer import RosterChangeSet\n",
    "# from csh_fantasy_bot.nhl import score_team\n",
    "\n",
    "print('craig'"
   ]
  },
  {
   "cell_type": "code",
   "execution_count": 2,
   "metadata": {},
   "outputs": [],
   "source": [
    "# true value ignores actuals if they exist and works off projections only\n",
    "simulation_mode=False\n",
    "week_number = 5\n",
    "league_id = '403.l.41177'\n",
    "# league_id = \"403.l.18782\"\n",
    "manager = bot.ManagerBot(week_number, league_id=league_id, simulation_mode=simulation_mode)\n",
    "\n",
    "league_scorer = manager.score_comparer\n",
    "manager.opp_team_name   "
   ]
  },
  {
   "cell_type": "code",
   "execution_count": null,
   "metadata": {},
   "outputs": [],
   "source": [
    "# paste roster change text into here\n",
    "\"\"\"\n",
    "Here is example of what roster change text should look like\n",
    "It is output from the rosterchangeset.pretty_print method\n",
    "\n",
    "Date: 2021-02-08, in: Alexis Lafreniere(8641), out: Teuvo Teravainen(5698)\n",
    "Date: 2021-02-09, in: Zdeno Chara(1700), out: Kailer Yamamoto(7537)\n",
    "Date: 2021-02-10, in: Adam Fox(7174), out: Evander Kane(4684)\n",
    "\"\"\"\n",
    "roster_change_text=\"\"\"\n",
    "\"\"\"\n",
    "roster_changes = RosterChangeSet.from_pretty_print_text(roster_change_text, manager.all_player_predictions)\n",
    "scores_with_changes = manager.score_team(roster_change_set=roster_changes)[1]\n",
    "scoring_result = league_scorer.score(scores_with_changes)[manager.stat_categories]\n",
    "print(scoring_result)\n",
    "print(f\"\\nScore: opp->({scoring_result.loc['score_opp'].sum()}), league->({scoring_result.loc['score_league'].sum()})\")\n",
    "\n",
    "if (roster_change_text != ''):\n",
    "    scores_ignore_roster_changes = manager.score_team()[1]\n",
    "    score_result_no_changes = league_scorer.score(scores_ignore_roster_changes)\n",
    "    print (f\"\\nWithout roster changes: opp->({score_result_no_changes.loc['score_opp'].sum()}), league->({score_result_no_changes.loc['score_league'].sum()})\")\n",
    "\n"
   ]
  },
  {
   "cell_type": "code",
   "execution_count": null,
   "metadata": {},
   "outputs": [],
   "source": [
    "scores_ignore_roster_changes = scores_with_changes\n",
    "games_played = scores_ignore_roster_changes['G'].groupby(level=1).count()\n",
    "result = manager.all_player_predictions.copy()\n",
    "result['GP'] = games_played\n",
    "gp_table = result[result.GP.notna()].sort_values('GP', ascending=False).round(2)\n",
    "gp_table[['name', 'GP', 'fpts']]"
   ]
  },
  {
   "cell_type": "code",
   "execution_count": null,
   "metadata": {},
   "outputs": [],
   "source": [
    "gp_table['GP'].sum()"
   ]
  }
 ],
 "metadata": {
  "kernelspec": {
   "display_name": "Python 3.8.0 64-bit ('venv': venv)",
   "language": "python",
   "name": "python38064bitvenvvenv3104862f040048b6925f7e4c5310dc70"
  },
  "language_info": {
   "codemirror_mode": {
    "name": "ipython",
    "version": 3
   },
   "file_extension": ".py",
   "mimetype": "text/x-python",
   "name": "python",
   "nbconvert_exporter": "python",
   "pygments_lexer": "ipython3",
   "version": "3.8.0"
  },
  "orig_nbformat": 2
 },
 "nbformat": 4,
 "nbformat_minor": 2
}