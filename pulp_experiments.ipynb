{
 "metadata": {
  "language_info": {
   "codemirror_mode": {
    "name": "ipython",
    "version": 3
   },
   "file_extension": ".py",
   "mimetype": "text/x-python",
   "name": "python",
   "nbconvert_exporter": "python",
   "pygments_lexer": "ipython3",
   "version": "3.8.0-final"
  },
  "orig_nbformat": 2,
  "kernelspec": {
   "name": "python38064bitvenvvenv7230f0c4460c462d8bdbff1c483bdfe3",
   "display_name": "Python 3.8.0 64-bit ('venv': venv)",
   "language": "python"
  }
 },
 "nbformat": 4,
 "nbformat_minor": 2,
 "cells": [
  {
   "cell_type": "code",
   "execution_count": 53,
   "metadata": {},
   "outputs": [
    {
     "output_type": "stream",
     "name": "stdout",
     "text": [
      "               G     A  +/-   PIM   SOG    FW   HIT\nmy-scores    5.2   9.1 -1.2  17.6  62.2  59.0  34.7\nopponent     6.8  12.0  2.1  11.6  58.9  81.1  27.7\ndifference  -1.6  -3.0 -3.3   6.0   3.4 -22.1   7.0\nmean-opp     6.0  10.6  0.5  14.6  60.5  70.1  31.2\nmean-league  7.6  13.4  2.0  13.7  70.6  64.8  29.3\nstd dev      1.1   2.5  1.4   2.1   7.9  15.9   5.1\nnum_stds    -1.4  -1.2 -2.3   2.9   0.4  -1.4   1.4\nscore       -0.3  -0.3 -6.7   0.4   0.1  -0.3   0.2\nwin_loss    -1.0  -1.0 -1.0   1.0   1.0  -1.0   1.0\nScore: -0.29\n"
     ]
    }
   ],
   "source": [
    "import pulp\n",
    "import logging\n",
    "import pandas as pd \n",
    "\n",
    "logging.getLogger().setLevel(level=logging.INFO)\n",
    "logging.getLogger(\"yahoo_oauth\").setLevel(level=logging.INFO)\n",
    "\n",
    "\n",
    "from csh_fantasy_bot.bot import ManagerBot\n",
    "from nhl_scraper.nhl import Scraper\n",
    "\n",
    "from pulp import *\n",
    "\n",
    "league_id = '403.l.41177'\n",
    "week_number = 2\n",
    "manager = ManagerBot(week_number, league_id=league_id)\n",
    "\n",
    "my_scores = manager.my_team.scores()\n",
    "manager.score_comparer.print_week_results(my_scores)\n"
   ]
  },
  {
   "cell_type": "code",
   "execution_count": 63,
   "metadata": {},
   "outputs": [
    {
     "output_type": "execute_result",
     "data": {
      "text/plain": [
       "          eligible_positions             name      fpts\n",
       "player_id                                              \n",
       "3358                     [D]      Brent Burns  0.394861\n",
       "4684                    [LW]     Evander Kane  1.135035\n",
       "5697                 [C, LW]      Tomas Hertl  0.573239\n",
       "5986                     [D]    Darnell Nurse  0.687115\n",
       "7537                    [RW]  Kailer Yamamoto -0.181922\n",
       "4263                 [C, RW]  Mikael Backlund  0.273833\n",
       "4687                     [C]      Nazem Kadri  0.658630\n",
       "7155                     [D]    Samuel Girard -0.425131\n",
       "6865                [LW, RW]    Conor Garland -0.177034\n",
       "4984                     [C]      Kevin Hayes  0.464167"
      ],
      "text/html": "<div>\n<style scoped>\n    .dataframe tbody tr th:only-of-type {\n        vertical-align: middle;\n    }\n\n    .dataframe tbody tr th {\n        vertical-align: top;\n    }\n\n    .dataframe thead th {\n        text-align: right;\n    }\n</style>\n<table border=\"1\" class=\"dataframe\">\n  <thead>\n    <tr style=\"text-align: right;\">\n      <th></th>\n      <th>eligible_positions</th>\n      <th>name</th>\n      <th>fpts</th>\n    </tr>\n    <tr>\n      <th>player_id</th>\n      <th></th>\n      <th></th>\n      <th></th>\n    </tr>\n  </thead>\n  <tbody>\n    <tr>\n      <th>3358</th>\n      <td>[D]</td>\n      <td>Brent Burns</td>\n      <td>0.394861</td>\n    </tr>\n    <tr>\n      <th>4684</th>\n      <td>[LW]</td>\n      <td>Evander Kane</td>\n      <td>1.135035</td>\n    </tr>\n    <tr>\n      <th>5697</th>\n      <td>[C, LW]</td>\n      <td>Tomas Hertl</td>\n      <td>0.573239</td>\n    </tr>\n    <tr>\n      <th>5986</th>\n      <td>[D]</td>\n      <td>Darnell Nurse</td>\n      <td>0.687115</td>\n    </tr>\n    <tr>\n      <th>7537</th>\n      <td>[RW]</td>\n      <td>Kailer Yamamoto</td>\n      <td>-0.181922</td>\n    </tr>\n    <tr>\n      <th>4263</th>\n      <td>[C, RW]</td>\n      <td>Mikael Backlund</td>\n      <td>0.273833</td>\n    </tr>\n    <tr>\n      <th>4687</th>\n      <td>[C]</td>\n      <td>Nazem Kadri</td>\n      <td>0.658630</td>\n    </tr>\n    <tr>\n      <th>7155</th>\n      <td>[D]</td>\n      <td>Samuel Girard</td>\n      <td>-0.425131</td>\n    </tr>\n    <tr>\n      <th>6865</th>\n      <td>[LW, RW]</td>\n      <td>Conor Garland</td>\n      <td>-0.177034</td>\n    </tr>\n    <tr>\n      <th>4984</th>\n      <td>[C]</td>\n      <td>Kevin Hayes</td>\n      <td>0.464167</td>\n    </tr>\n  </tbody>\n</table>\n</div>"
     },
     "metadata": {},
     "execution_count": 63
    }
   ],
   "source": [
    "\n",
    "# lets do second day of week, lots of guys can play\n",
    "game_day = manager.week[1].to_pydatetime().date()\n",
    "teams_playing_today = Scraper()._teams_playing_one_day(game_day)\n",
    "my_roster = manager.my_team.roster().copy()\n",
    "game_day_players = my_roster[my_roster.team_id.isin(teams_playing_today)]\n",
    "\n",
    "game_day_players.head()\n",
    "game_day_players = game_day_players[[\"eligible_positions\", \"name\", \"fpts\"]]\n",
    "game_day_players.head(20)"
   ]
  },
  {
   "cell_type": "code",
   "execution_count": 67,
   "metadata": {},
   "outputs": [
    {
     "output_type": "execute_result",
     "data": {
      "text/plain": [
       "datetime.date(2021, 1, 26)"
      ]
     },
     "metadata": {},
     "execution_count": 67
    }
   ],
   "source": [
    "opponent_scores_for_day = manager.opponent.scores()\n",
    "opponent_scores_for_day.head()\n",
    "\n",
    "# opponent_scores_for_day[opponent_scores_for_day.play_date == game_day].head()"
   ]
  },
  {
   "cell_type": "code",
   "execution_count": 51,
   "metadata": {},
   "outputs": [],
   "source": [
    "# availables.eligible_positions.map(set(['LW']).issubset)\n",
    "\n",
    "def score(goals, assists):\n",
    "    opponent_goals = 6.8\n",
    "    oppoonent_assists = 12\n",
    "\n",
    "    \n",
    "prob = pulp.LpProblem('NHL', LpMaximize)\n",
    "\n",
    "player_vars = {player_id:pulp.LpVariable(str(player_id), cat='Binary') for player_id in game_day_players.index.values}\n",
    "\n",
    "#adds objective function\n",
    "prob += (lpSum(game_day_players.loc[p_id, 'fpts']*player_vars[p_id] for p_id in game_day_players.index.values))\n",
    "\n",
    "prob += (lpSum(self.positions.loc[p_id,'C']*player_vars[p_id] for p_id in game_day_players.index.values) == 2)\n"
   ]
  },
  {
   "cell_type": "code",
   "execution_count": 57,
   "metadata": {},
   "outputs": [
    {
     "output_type": "execute_result",
     "data": {
      "text/plain": [
       "player_id\n",
       "3358         [D]\n",
       "4684        [LW]\n",
       "5697     [C, LW]\n",
       "5986         [D]\n",
       "7537        [RW]\n",
       "4263     [C, RW]\n",
       "4687         [C]\n",
       "7155         [D]\n",
       "6865    [LW, RW]\n",
       "4984         [C]\n",
       "Name: eligible_positions, dtype: object"
      ]
     },
     "metadata": {},
     "execution_count": 57
    }
   ],
   "source": [
    "\n",
    "\n",
    "# d = {i:[] for i in pd.Series(game_day_players['eligible_positions']).unique()}\n",
    "\n",
    "\n",
    "# pos_num_available = {\n",
    "#     \"C\": 2,\n",
    "#     \"LW\": 2,\n",
    "#     \"RW\": 2,\n",
    "#     \"D\": 4,\n",
    "# }\n",
    "\n",
    "# for pos in pos_num_available.keys():\n",
    "#     available_pos = availables[availables.eligible_positions == pos]\n",
    "#     salary = list(available_pos[[\"displayName\",\"salary\"]].set_index(\"displayName\").to_dict().values())[0]\n",
    "#     point = list(available_pos[[\"displayName\",\"points\"]].set_index(\"displayName\").to_dict().values())[0]\n",
    "#     salaries[pos] = salary\n",
    "#     points[pos] = point\n"
   ]
  },
  {
   "cell_type": "code",
   "execution_count": null,
   "metadata": {},
   "outputs": [],
   "source": []
  }
 ]
}