{
 "metadata": {
  "language_info": {
   "codemirror_mode": {
    "name": "ipython",
    "version": 3
   },
   "file_extension": ".py",
   "mimetype": "text/x-python",
   "name": "python",
   "nbconvert_exporter": "python",
   "pygments_lexer": "ipython3",
   "version": "3.8.0-final"
  },
  "orig_nbformat": 2,
  "kernelspec": {
   "name": "python38064bitvenvvenv7230f0c4460c462d8bdbff1c483bdfe3",
   "display_name": "Python 3.8.0 64-bit ('venv': venv)",
   "language": "python"
  }
 },
 "nbformat": 4,
 "nbformat_minor": 2,
 "cells": [
  {
   "cell_type": "code",
   "execution_count": 12,
   "metadata": {},
   "outputs": [],
   "source": [
    "import pulp\n",
    "import logging\n",
    "import pandas as pd \n",
    "\n",
    "logging.getLogger().setLevel(level=logging.INFO)\n",
    "logging.getLogger(\"yahoo_oauth\").setLevel(level=logging.INFO)\n",
    "\n",
    "\n",
    "from csh_fantasy_bot.bot import ManagerBot\n",
    "from nhl_scraper.nhl import Scraper\n",
    "\n",
    "from pulp import *\n",
    "\n",
    "league_id = '403.l.41177'\n",
    "week_number = 5\n",
    "manager = ManagerBot(week_number, league_id=league_id)\n",
    "\n",
    "my_scores = manager.my_team.scores()\n",
    "# manager.score_comparer.print_week_results(my_scores)\n"
   ]
  },
  {
   "cell_type": "code",
   "execution_count": 22,
   "metadata": {},
   "outputs": [
    {
     "output_type": "execute_result",
     "data": {
      "text/plain": [
       "          eligible_positions              name      fpts\n",
       "player_id                                               \n",
       "3358                     [D]       Brent Burns  0.777493\n",
       "4684                [LW, RW]      Evander Kane  1.777869\n",
       "5697                 [C, LW]       Tomas Hertl  0.981181\n",
       "5986                     [D]     Darnell Nurse  1.098989\n",
       "5985                     [C]      Sean Monahan  1.019299\n",
       "6083                 [C, LW]       Andrew Copp  0.887706\n",
       "5370                     [D]   Dougie Hamilton  1.159915\n",
       "5431                     [C]  Vincent Trocheck  1.239122\n",
       "7902                    [LW]     Brady Tkachuk  1.506455"
      ],
      "text/html": "<div>\n<style scoped>\n    .dataframe tbody tr th:only-of-type {\n        vertical-align: middle;\n    }\n\n    .dataframe tbody tr th {\n        vertical-align: top;\n    }\n\n    .dataframe thead th {\n        text-align: right;\n    }\n</style>\n<table border=\"1\" class=\"dataframe\">\n  <thead>\n    <tr style=\"text-align: right;\">\n      <th></th>\n      <th>eligible_positions</th>\n      <th>name</th>\n      <th>fpts</th>\n    </tr>\n    <tr>\n      <th>player_id</th>\n      <th></th>\n      <th></th>\n      <th></th>\n    </tr>\n  </thead>\n  <tbody>\n    <tr>\n      <th>3358</th>\n      <td>[D]</td>\n      <td>Brent Burns</td>\n      <td>0.777493</td>\n    </tr>\n    <tr>\n      <th>4684</th>\n      <td>[LW, RW]</td>\n      <td>Evander Kane</td>\n      <td>1.777869</td>\n    </tr>\n    <tr>\n      <th>5697</th>\n      <td>[C, LW]</td>\n      <td>Tomas Hertl</td>\n      <td>0.981181</td>\n    </tr>\n    <tr>\n      <th>5986</th>\n      <td>[D]</td>\n      <td>Darnell Nurse</td>\n      <td>1.098989</td>\n    </tr>\n    <tr>\n      <th>5985</th>\n      <td>[C]</td>\n      <td>Sean Monahan</td>\n      <td>1.019299</td>\n    </tr>\n    <tr>\n      <th>6083</th>\n      <td>[C, LW]</td>\n      <td>Andrew Copp</td>\n      <td>0.887706</td>\n    </tr>\n    <tr>\n      <th>5370</th>\n      <td>[D]</td>\n      <td>Dougie Hamilton</td>\n      <td>1.159915</td>\n    </tr>\n    <tr>\n      <th>5431</th>\n      <td>[C]</td>\n      <td>Vincent Trocheck</td>\n      <td>1.239122</td>\n    </tr>\n    <tr>\n      <th>7902</th>\n      <td>[LW]</td>\n      <td>Brady Tkachuk</td>\n      <td>1.506455</td>\n    </tr>\n  </tbody>\n</table>\n</div>"
     },
     "metadata": {},
     "execution_count": 22
    }
   ],
   "source": [
    "\n",
    "# lets do second day of week, lots of guys can play\n",
    "game_day = manager.week[0].to_pydatetime().date()\n",
    "teams_playing_today = Scraper()._teams_playing_one_day(game_day)\n",
    "my_roster = manager.my_team.roster().copy()\n",
    "game_day_players = my_roster[my_roster.team_id.isin(teams_playing_today)]\n",
    "\n",
    "game_day_players.head()\n",
    "game_day_players = game_day_players[[\"eligible_positions\", \"name\", \"fpts\"]]\n",
    "game_day_players.head(20)"
   ]
  },
  {
   "cell_type": "code",
   "execution_count": 23,
   "metadata": {},
   "outputs": [
    {
     "output_type": "execute_result",
     "data": {
      "text/plain": [
       "                        G    A  +/-  PIM  SOG   FW  HIT score_type\n",
       "play_date  player_id                                              \n",
       "2021-02-15 5096       0.0  0.0 -1.0  4.0  5.0  0.0  3.0          a\n",
       "           6744       0.0  0.0 -1.0  0.0  2.0  8.0  0.0          a\n",
       "           5691       NaN  NaN  NaN  NaN  NaN  NaN  NaN          a\n",
       "           5928       1.0  0.0  2.0  0.0  2.0  2.0  0.0          a\n",
       "           3641       1.0  1.0 -1.0  0.0  1.0  0.0  2.0          a"
      ],
      "text/html": "<div>\n<style scoped>\n    .dataframe tbody tr th:only-of-type {\n        vertical-align: middle;\n    }\n\n    .dataframe tbody tr th {\n        vertical-align: top;\n    }\n\n    .dataframe thead th {\n        text-align: right;\n    }\n</style>\n<table border=\"1\" class=\"dataframe\">\n  <thead>\n    <tr style=\"text-align: right;\">\n      <th></th>\n      <th></th>\n      <th>G</th>\n      <th>A</th>\n      <th>+/-</th>\n      <th>PIM</th>\n      <th>SOG</th>\n      <th>FW</th>\n      <th>HIT</th>\n      <th>score_type</th>\n    </tr>\n    <tr>\n      <th>play_date</th>\n      <th>player_id</th>\n      <th></th>\n      <th></th>\n      <th></th>\n      <th></th>\n      <th></th>\n      <th></th>\n      <th></th>\n      <th></th>\n    </tr>\n  </thead>\n  <tbody>\n    <tr>\n      <th rowspan=\"5\" valign=\"top\">2021-02-15</th>\n      <th>5096</th>\n      <td>0.0</td>\n      <td>0.0</td>\n      <td>-1.0</td>\n      <td>4.0</td>\n      <td>5.0</td>\n      <td>0.0</td>\n      <td>3.0</td>\n      <td>a</td>\n    </tr>\n    <tr>\n      <th>6744</th>\n      <td>0.0</td>\n      <td>0.0</td>\n      <td>-1.0</td>\n      <td>0.0</td>\n      <td>2.0</td>\n      <td>8.0</td>\n      <td>0.0</td>\n      <td>a</td>\n    </tr>\n    <tr>\n      <th>5691</th>\n      <td>NaN</td>\n      <td>NaN</td>\n      <td>NaN</td>\n      <td>NaN</td>\n      <td>NaN</td>\n      <td>NaN</td>\n      <td>NaN</td>\n      <td>a</td>\n    </tr>\n    <tr>\n      <th>5928</th>\n      <td>1.0</td>\n      <td>0.0</td>\n      <td>2.0</td>\n      <td>0.0</td>\n      <td>2.0</td>\n      <td>2.0</td>\n      <td>0.0</td>\n      <td>a</td>\n    </tr>\n    <tr>\n      <th>3641</th>\n      <td>1.0</td>\n      <td>1.0</td>\n      <td>-1.0</td>\n      <td>0.0</td>\n      <td>1.0</td>\n      <td>0.0</td>\n      <td>2.0</td>\n      <td>a</td>\n    </tr>\n  </tbody>\n</table>\n</div>"
     },
     "metadata": {},
     "execution_count": 23
    }
   ],
   "source": [
    "opponent_scores_for_day = manager.opponent.scores()\n",
    "opponent_scores_for_day.head()\n",
    "\n",
    "# opponent_scores_for_day[opponent_scores_for_day.play_date == game_day].head()"
   ]
  },
  {
   "cell_type": "code",
   "execution_count": 24,
   "metadata": {},
   "outputs": [
    {
     "output_type": "error",
     "ename": "AttributeError",
     "evalue": "'DataFrame' object has no attribute 'positions'",
     "traceback": [
      "\u001b[0;31m---------------------------------------------------------------------------\u001b[0m",
      "\u001b[0;31mAttributeError\u001b[0m                            Traceback (most recent call last)",
      "\u001b[0;32m<ipython-input-24-fb0ea71aeb22>\u001b[0m in \u001b[0;36m<module>\u001b[0;34m\u001b[0m\n\u001b[1;32m     13\u001b[0m \u001b[0mprob\u001b[0m \u001b[0;34m+=\u001b[0m \u001b[0;34m(\u001b[0m\u001b[0mlpSum\u001b[0m\u001b[0;34m(\u001b[0m\u001b[0mgame_day_players\u001b[0m\u001b[0;34m.\u001b[0m\u001b[0mloc\u001b[0m\u001b[0;34m[\u001b[0m\u001b[0mp_id\u001b[0m\u001b[0;34m,\u001b[0m \u001b[0;34m'fpts'\u001b[0m\u001b[0;34m]\u001b[0m\u001b[0;34m*\u001b[0m\u001b[0mplayer_vars\u001b[0m\u001b[0;34m[\u001b[0m\u001b[0mp_id\u001b[0m\u001b[0;34m]\u001b[0m \u001b[0;32mfor\u001b[0m \u001b[0mp_id\u001b[0m \u001b[0;32min\u001b[0m \u001b[0mgame_day_players\u001b[0m\u001b[0;34m.\u001b[0m\u001b[0mindex\u001b[0m\u001b[0;34m.\u001b[0m\u001b[0mvalues\u001b[0m\u001b[0;34m)\u001b[0m\u001b[0;34m)\u001b[0m\u001b[0;34m\u001b[0m\u001b[0;34m\u001b[0m\u001b[0m\n\u001b[1;32m     14\u001b[0m \u001b[0;34m\u001b[0m\u001b[0m\n\u001b[0;32m---> 15\u001b[0;31m \u001b[0mprob\u001b[0m \u001b[0;34m+=\u001b[0m \u001b[0;34m(\u001b[0m\u001b[0mlpSum\u001b[0m\u001b[0;34m(\u001b[0m\u001b[0mgame_day_players\u001b[0m\u001b[0;34m.\u001b[0m\u001b[0mpositions\u001b[0m\u001b[0;34m.\u001b[0m\u001b[0mloc\u001b[0m\u001b[0;34m[\u001b[0m\u001b[0mp_id\u001b[0m\u001b[0;34m,\u001b[0m\u001b[0;34m'C'\u001b[0m\u001b[0;34m]\u001b[0m\u001b[0;34m*\u001b[0m\u001b[0mplayer_vars\u001b[0m\u001b[0;34m[\u001b[0m\u001b[0mp_id\u001b[0m\u001b[0;34m]\u001b[0m \u001b[0;32mfor\u001b[0m \u001b[0mp_id\u001b[0m \u001b[0;32min\u001b[0m \u001b[0mgame_day_players\u001b[0m\u001b[0;34m.\u001b[0m\u001b[0mindex\u001b[0m\u001b[0;34m.\u001b[0m\u001b[0mvalues\u001b[0m\u001b[0;34m)\u001b[0m \u001b[0;34m==\u001b[0m \u001b[0;36m2\u001b[0m\u001b[0;34m)\u001b[0m\u001b[0;34m\u001b[0m\u001b[0;34m\u001b[0m\u001b[0m\n\u001b[0m",
      "\u001b[0;32m~/dev/fantasy_bot/venv/lib/python3.8/site-packages/pulp/pulp.py\u001b[0m in \u001b[0;36mlpSum\u001b[0;34m(vector)\u001b[0m\n\u001b[1;32m   2073\u001b[0m     \u001b[0;34m:\u001b[0m\u001b[0mparam\u001b[0m \u001b[0mvector\u001b[0m\u001b[0;34m:\u001b[0m \u001b[0mA\u001b[0m \u001b[0mlist\u001b[0m \u001b[0mof\u001b[0m \u001b[0mlinear\u001b[0m \u001b[0mexpressions\u001b[0m\u001b[0;34m\u001b[0m\u001b[0;34m\u001b[0m\u001b[0m\n\u001b[1;32m   2074\u001b[0m     \"\"\"\n\u001b[0;32m-> 2075\u001b[0;31m     \u001b[0;32mreturn\u001b[0m \u001b[0mLpAffineExpression\u001b[0m\u001b[0;34m(\u001b[0m\u001b[0;34m)\u001b[0m\u001b[0;34m.\u001b[0m\u001b[0maddInPlace\u001b[0m\u001b[0;34m(\u001b[0m\u001b[0mvector\u001b[0m\u001b[0;34m)\u001b[0m\u001b[0;34m\u001b[0m\u001b[0;34m\u001b[0m\u001b[0m\n\u001b[0m\u001b[1;32m   2076\u001b[0m \u001b[0;34m\u001b[0m\u001b[0m\n\u001b[1;32m   2077\u001b[0m \u001b[0;34m\u001b[0m\u001b[0m\n",
      "\u001b[0;32m~/dev/fantasy_bot/venv/lib/python3.8/site-packages/pulp/pulp.py\u001b[0m in \u001b[0;36maddInPlace\u001b[0;34m(self, other)\u001b[0m\n\u001b[1;32m    763\u001b[0m         elif (isinstance(other,list)\n\u001b[1;32m    764\u001b[0m               or isinstance(other, Iterable)):\n\u001b[0;32m--> 765\u001b[0;31m            \u001b[0;32mfor\u001b[0m \u001b[0me\u001b[0m \u001b[0;32min\u001b[0m \u001b[0mother\u001b[0m\u001b[0;34m:\u001b[0m\u001b[0;34m\u001b[0m\u001b[0;34m\u001b[0m\u001b[0m\n\u001b[0m\u001b[1;32m    766\u001b[0m                 \u001b[0mself\u001b[0m\u001b[0;34m.\u001b[0m\u001b[0maddInPlace\u001b[0m\u001b[0;34m(\u001b[0m\u001b[0me\u001b[0m\u001b[0;34m)\u001b[0m\u001b[0;34m\u001b[0m\u001b[0;34m\u001b[0m\u001b[0m\n\u001b[1;32m    767\u001b[0m         \u001b[0;32melse\u001b[0m\u001b[0;34m:\u001b[0m\u001b[0;34m\u001b[0m\u001b[0;34m\u001b[0m\u001b[0m\n",
      "\u001b[0;32m<ipython-input-24-fb0ea71aeb22>\u001b[0m in \u001b[0;36m<genexpr>\u001b[0;34m(.0)\u001b[0m\n\u001b[1;32m     13\u001b[0m \u001b[0mprob\u001b[0m \u001b[0;34m+=\u001b[0m \u001b[0;34m(\u001b[0m\u001b[0mlpSum\u001b[0m\u001b[0;34m(\u001b[0m\u001b[0mgame_day_players\u001b[0m\u001b[0;34m.\u001b[0m\u001b[0mloc\u001b[0m\u001b[0;34m[\u001b[0m\u001b[0mp_id\u001b[0m\u001b[0;34m,\u001b[0m \u001b[0;34m'fpts'\u001b[0m\u001b[0;34m]\u001b[0m\u001b[0;34m*\u001b[0m\u001b[0mplayer_vars\u001b[0m\u001b[0;34m[\u001b[0m\u001b[0mp_id\u001b[0m\u001b[0;34m]\u001b[0m \u001b[0;32mfor\u001b[0m \u001b[0mp_id\u001b[0m \u001b[0;32min\u001b[0m \u001b[0mgame_day_players\u001b[0m\u001b[0;34m.\u001b[0m\u001b[0mindex\u001b[0m\u001b[0;34m.\u001b[0m\u001b[0mvalues\u001b[0m\u001b[0;34m)\u001b[0m\u001b[0;34m)\u001b[0m\u001b[0;34m\u001b[0m\u001b[0;34m\u001b[0m\u001b[0m\n\u001b[1;32m     14\u001b[0m \u001b[0;34m\u001b[0m\u001b[0m\n\u001b[0;32m---> 15\u001b[0;31m \u001b[0mprob\u001b[0m \u001b[0;34m+=\u001b[0m \u001b[0;34m(\u001b[0m\u001b[0mlpSum\u001b[0m\u001b[0;34m(\u001b[0m\u001b[0mgame_day_players\u001b[0m\u001b[0;34m.\u001b[0m\u001b[0mpositions\u001b[0m\u001b[0;34m.\u001b[0m\u001b[0mloc\u001b[0m\u001b[0;34m[\u001b[0m\u001b[0mp_id\u001b[0m\u001b[0;34m,\u001b[0m\u001b[0;34m'C'\u001b[0m\u001b[0;34m]\u001b[0m\u001b[0;34m*\u001b[0m\u001b[0mplayer_vars\u001b[0m\u001b[0;34m[\u001b[0m\u001b[0mp_id\u001b[0m\u001b[0;34m]\u001b[0m \u001b[0;32mfor\u001b[0m \u001b[0mp_id\u001b[0m \u001b[0;32min\u001b[0m \u001b[0mgame_day_players\u001b[0m\u001b[0;34m.\u001b[0m\u001b[0mindex\u001b[0m\u001b[0;34m.\u001b[0m\u001b[0mvalues\u001b[0m\u001b[0;34m)\u001b[0m \u001b[0;34m==\u001b[0m \u001b[0;36m2\u001b[0m\u001b[0;34m)\u001b[0m\u001b[0;34m\u001b[0m\u001b[0;34m\u001b[0m\u001b[0m\n\u001b[0m",
      "\u001b[0;32m~/dev/fantasy_bot/venv/lib/python3.8/site-packages/pandas/core/generic.py\u001b[0m in \u001b[0;36m__getattr__\u001b[0;34m(self, name)\u001b[0m\n\u001b[1;32m   5460\u001b[0m             \u001b[0;32mif\u001b[0m \u001b[0mself\u001b[0m\u001b[0;34m.\u001b[0m\u001b[0m_info_axis\u001b[0m\u001b[0;34m.\u001b[0m\u001b[0m_can_hold_identifiers_and_holds_name\u001b[0m\u001b[0;34m(\u001b[0m\u001b[0mname\u001b[0m\u001b[0;34m)\u001b[0m\u001b[0;34m:\u001b[0m\u001b[0;34m\u001b[0m\u001b[0;34m\u001b[0m\u001b[0m\n\u001b[1;32m   5461\u001b[0m                 \u001b[0;32mreturn\u001b[0m \u001b[0mself\u001b[0m\u001b[0;34m[\u001b[0m\u001b[0mname\u001b[0m\u001b[0;34m]\u001b[0m\u001b[0;34m\u001b[0m\u001b[0;34m\u001b[0m\u001b[0m\n\u001b[0;32m-> 5462\u001b[0;31m             \u001b[0;32mreturn\u001b[0m \u001b[0mobject\u001b[0m\u001b[0;34m.\u001b[0m\u001b[0m__getattribute__\u001b[0m\u001b[0;34m(\u001b[0m\u001b[0mself\u001b[0m\u001b[0;34m,\u001b[0m \u001b[0mname\u001b[0m\u001b[0;34m)\u001b[0m\u001b[0;34m\u001b[0m\u001b[0;34m\u001b[0m\u001b[0m\n\u001b[0m\u001b[1;32m   5463\u001b[0m \u001b[0;34m\u001b[0m\u001b[0m\n\u001b[1;32m   5464\u001b[0m     \u001b[0;32mdef\u001b[0m \u001b[0m__setattr__\u001b[0m\u001b[0;34m(\u001b[0m\u001b[0mself\u001b[0m\u001b[0;34m,\u001b[0m \u001b[0mname\u001b[0m\u001b[0;34m:\u001b[0m \u001b[0mstr\u001b[0m\u001b[0;34m,\u001b[0m \u001b[0mvalue\u001b[0m\u001b[0;34m)\u001b[0m \u001b[0;34m->\u001b[0m \u001b[0;32mNone\u001b[0m\u001b[0;34m:\u001b[0m\u001b[0;34m\u001b[0m\u001b[0;34m\u001b[0m\u001b[0m\n",
      "\u001b[0;31mAttributeError\u001b[0m: 'DataFrame' object has no attribute 'positions'"
     ]
    }
   ],
   "source": [
    "# availables.eligible_positions.map(set(['LW']).issubset)\n",
    "\n",
    "def score(goals, assists):\n",
    "    opponent_goals = 6.8\n",
    "    oppoonent_assists = 12\n",
    "\n",
    "    \n",
    "prob = pulp.LpProblem('NHL', LpMaximize)\n",
    "\n",
    "player_vars = {player_id:pulp.LpVariable(str(player_id), cat='Binary') for player_id in game_day_players.index.values}\n",
    "\n",
    "#adds objective function\n",
    "prob += (lpSum(game_day_players.loc[p_id, 'fpts']*player_vars[p_id] for p_id in game_day_players.index.values))\n",
    "\n",
    "# prob += (lpSum(game_day_players.positions.loc[p_id,'C']*player_vars[p_id] for p_id in game_day_players.index.values) == 2)\n"
   ]
  },
  {
   "cell_type": "code",
   "execution_count": 21,
   "metadata": {},
   "outputs": [],
   "source": [
    "\n",
    "\n",
    "# d = {i:[] for i in pd.Series(game_day_players['eligible_positions']).unique()}\n",
    "\n",
    "\n",
    "# pos_num_available = {\n",
    "#     \"C\": 2,\n",
    "#     \"LW\": 2,\n",
    "#     \"RW\": 2,\n",
    "#     \"D\": 4,\n",
    "# }\n",
    "\n",
    "# for pos in pos_num_available.keys():\n",
    "#     available_pos = availables[availables.eligible_positions == pos]\n",
    "#     salary = list(available_pos[[\"displayName\",\"salary\"]].set_index(\"displayName\").to_dict().values())[0]\n",
    "#     point = list(available_pos[[\"displayName\",\"points\"]].set_index(\"displayName\").to_dict().values())[0]\n",
    "#     salaries[pos] = salary\n",
    "#     points[pos] = point\n"
   ]
  },
  {
   "cell_type": "code",
   "execution_count": null,
   "metadata": {},
   "outputs": [],
   "source": []
  }
 ]
}